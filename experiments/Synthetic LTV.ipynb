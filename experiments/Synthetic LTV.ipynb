{
 "cells": [
  {
   "cell_type": "code",
   "execution_count": 1,
   "id": "6ef66e3c",
   "metadata": {},
   "outputs": [
    {
     "name": "stderr",
     "output_type": "stream",
     "text": [
      "INFO: Created a temporary directory at /var/folders/5m/0xr906c130vdqvkm3g21n6wr0000gn/T/tmplnfk5vp3\n",
      "INFO: Writing /var/folders/5m/0xr906c130vdqvkm3g21n6wr0000gn/T/tmplnfk5vp3/_remote_module_non_scriptable.py\n"
     ]
    }
   ],
   "source": [
    "import logging\n",
    "logging.basicConfig(format='%(levelname)s: %(message)s', level=logging.INFO)  # set level to INFO for wordy\n",
    "import tqdm\n",
    "\n",
    "from mpl_toolkits import mplot3d\n",
    "from matplotlib import cm\n",
    "import matplotlib.pyplot as plt\n",
    "\n",
    "import numpy as np\n",
    "\n",
    "from extravaganza.dynamical_systems import KSwitchingLTV\n",
    "from extravaganza.observables import Observable, TimeDelayedObservation, Trajectory\n",
    "from extravaganza.lifters import Identity, NN\n",
    "from extravaganza.system_models import LiftedController, OfflineSysid, HardFTH\n",
    "from extravaganza.explorer import Explorer\n",
    "from extravaganza.utils import summarize_lds, sample, opnorm, SAMPLING_METHOD\n",
    "\n",
    "# seeds for randomness. setting to `None` uses random seeds\n",
    "SYSTEM_SEED = None\n",
    "SYSID_SEED = None"
   ]
  },
  {
   "cell_type": "code",
   "execution_count": null,
   "id": "20768750",
   "metadata": {},
   "outputs": [],
   "source": [
    "def run(observable, ds: int, du: int, k: int, switch_every: int,\n",
    "        T0: int, reset_every: int, sysid_args):\n",
    "    \"\"\"\n",
    "    fn to gather data and train a sysid.\n",
    "    \"\"\"\n",
    "    # make system\n",
    "    system = KSwitchingLTV(ds, du, k, switch_every, disturbance_type='none', cost_fn='quad')\n",
    "\n",
    "    # make sysid\n",
    "    sysid = Lifter(**sysid_args)\n",
    "\n",
    "    # interaction loop\n",
    "    control = np.zeros(du)\n",
    "    max_sq_norm = 0.\n",
    "    traj = Trajectory()\n",
    "    for t in tqdm.trange(T0):\n",
    "        if t % reset_every == 0: \n",
    "            system.reset()\n",
    "            system.state = sample((ds,), sampling_method='sphere')\n",
    "            sysid.end_trajectory()\n",
    "            traj = Trajectory()\n",
    "        cost, state = system.interact(control)\n",
    "        traj.add_state(cost, state)\n",
    "        obs = observable(traj)\n",
    "        control = sysid.explore(cost, obs)\n",
    "        traj.add_control(control)\n",
    "        max_sq_norm = max(max_sq_norm, np.linalg.norm(state) ** 2)\n",
    "    sysid.end_exploration(wordy=True)\n",
    "    return A, B, sysid, max_sq_norm"
   ]
  }
 ],
 "metadata": {
  "kernelspec": {
   "display_name": "extravaganza",
   "language": "python",
   "name": "extravaganza"
  },
  "language_info": {
   "codemirror_mode": {
    "name": "ipython",
    "version": 3
   },
   "file_extension": ".py",
   "mimetype": "text/x-python",
   "name": "python",
   "nbconvert_exporter": "python",
   "pygments_lexer": "ipython3",
   "version": "3.10.8"
  }
 },
 "nbformat": 4,
 "nbformat_minor": 5
}
