{
 "cells": [
  {
   "cell_type": "code",
   "execution_count": 1,
   "id": "0f9b6cc9",
   "metadata": {},
   "outputs": [],
   "source": [
    "import logging\n",
    "logging.basicConfig(format='%(levelname)s: %(message)s', level=logging.INFO)  # set level to INFO for wordy\n",
    "import matplotlib.pyplot as plt\n",
    "from IPython.display import HTML\n",
    "import os\n",
    "import dill\n",
    "\n",
    "import numpy as np\n",
    "\n",
    "from extravaganza.experiments import Experiment\n",
    "from extravaganza.utils import get_color, render, ylim"
   ]
  },
  {
   "cell_type": "markdown",
   "id": "6d2b4cd7",
   "metadata": {},
   "source": [
    "# Load"
   ]
  },
  {
   "cell_type": "code",
   "execution_count": 2,
   "id": "9be2caf4",
   "metadata": {},
   "outputs": [
    {
     "name": "stdout",
     "output_type": "stream",
     "text": [
      "Experiments we can load:\n",
      "\n",
      "\t- coco_1888\n",
      "\t- coco_2010\n",
      "\t- coco_273\n",
      "\t- coco_32\n",
      "\t- coco_861\n",
      "\t- gym_CartPoleContinuous-v1\n",
      "\t- lds_constant\n",
      "\t- lds_gaussian\n",
      "\t- lds_sinusoidal\n",
      "\t- lds_square wave\n"
     ]
    }
   ],
   "source": [
    "# check all the saved experiments we can load\n",
    "print('Experiments we can load:\\n')\n",
    "for fname in np.sort(os.listdir('../logs')):\n",
    "    if '.pkl' not in fname: continue\n",
    "    print('\\t- {}'.format(fname[:-4]))"
   ]
  },
  {
   "cell_type": "code",
   "execution_count": 3,
   "id": "b3ab556e",
   "metadata": {},
   "outputs": [
    {
     "name": "stderr",
     "output_type": "stream",
     "text": [
      "INFO: (EXPERIMENT) loaded experiment from `../logs/gym_CartPoleContinuous-v1.pkl`\n"
     ]
    }
   ],
   "source": [
    "name = 'gym_CartPoleContinuous-v1'\n",
    "filename = '../logs/{}.pkl'.format(name)\n",
    "experiment = Experiment.load(filename)"
   ]
  },
  {
   "cell_type": "markdown",
   "id": "517a7752",
   "metadata": {},
   "source": [
    "# Plot"
   ]
  },
  {
   "cell_type": "code",
   "execution_count": 4,
   "id": "5f533df7",
   "metadata": {},
   "outputs": [],
   "source": [
    "def plot(experiment: Experiment):\n",
    "    assert experiment.stats is not None, 'cannot plot the results of an experiment that hasnt been run'\n",
    "    all_stats = experiment.stats\n",
    "    \n",
    "    # clear plot and calc nrows\n",
    "    plt.clf()\n",
    "    n = 2\n",
    "    nrows = n\n",
    "    fig, ax = plt.subplots(nrows, 2, figsize=(16, 6 * nrows))\n",
    "\n",
    "    # plot stats\n",
    "    for i, (method, stats) in enumerate(all_stats.items()):\n",
    "        if stats is None: \n",
    "            print('WARNING: {} had no stats'.format(method))\n",
    "            continue\n",
    "        stats.plot(ax[0, 0], 'xs', label=method, color=get_color(method))\n",
    "#         stats.plot(ax[0, 1], 'ws', label=method)\n",
    "        stats.plot(ax[0, 1], 'us', label=method)\n",
    "        if 'costs' in stats:\n",
    "            stats.plot(ax[1, 1], 'avg costs', label=method)\n",
    "            stats.plot(ax[1, 0], 'costs', label=method)\n",
    "        else:\n",
    "            stats.plot(ax[1, 1], 'avg fs', label=method)\n",
    "            stats.plot(ax[1, 0], 'fs', label=method)\n",
    "    \n",
    "    # (note: `ylim()` is so useful! because sometimes one thing blows up and then autoscale messes up all plots)\n",
    "    _ax = ax[0, 0]; _ax.set_title('State'); _ax.legend()#; ylim(_ax, -5, 20)\n",
    "    _ax = ax[0, 1]; _ax.set_title('Control'); _ax.legend()#; ylim(_ax, -0.5, 0.5)\n",
    "    _ax = ax[1, 1]; _ax.set_title('Average Costs'); _ax.legend()#; ylim(_ax, -5, 100)\n",
    "    _ax = ax[1, 0]; _ax.set_title('Instantaneous Costs'); _ax.legend()#; ylim(_ax, -0.05, 1.)\n",
    "    pass"
   ]
  },
  {
   "cell_type": "code",
   "execution_count": 5,
   "id": "cd3ff794",
   "metadata": {
    "scrolled": false
   },
   "outputs": [
    {
     "ename": "AttributeError",
     "evalue": "'tuple' object has no attribute 'stats'",
     "output_type": "error",
     "traceback": [
      "\u001b[0;31m---------------------------------------------------------------------------\u001b[0m",
      "\u001b[0;31mAttributeError\u001b[0m                            Traceback (most recent call last)",
      "Cell \u001b[0;32mIn[5], line 1\u001b[0m\n\u001b[0;32m----> 1\u001b[0m \u001b[43mplot\u001b[49m\u001b[43m(\u001b[49m\u001b[43mexperiment\u001b[49m\u001b[43m)\u001b[49m\n\u001b[1;32m      2\u001b[0m \u001b[38;5;66;03m# plt.savefig('../plots/{}.png'.format(name))\u001b[39;00m\n",
      "Cell \u001b[0;32mIn[4], line 2\u001b[0m, in \u001b[0;36mplot\u001b[0;34m(experiment)\u001b[0m\n\u001b[1;32m      1\u001b[0m \u001b[38;5;28;01mdef\u001b[39;00m \u001b[38;5;21mplot\u001b[39m(experiment: Experiment):\n\u001b[0;32m----> 2\u001b[0m     \u001b[38;5;28;01massert\u001b[39;00m \u001b[43mexperiment\u001b[49m\u001b[38;5;241;43m.\u001b[39;49m\u001b[43mstats\u001b[49m \u001b[38;5;129;01mis\u001b[39;00m \u001b[38;5;129;01mnot\u001b[39;00m \u001b[38;5;28;01mNone\u001b[39;00m, \u001b[38;5;124m'\u001b[39m\u001b[38;5;124mcannot plot the results of an experiment that hasnt been run\u001b[39m\u001b[38;5;124m'\u001b[39m\n\u001b[1;32m      3\u001b[0m     all_stats \u001b[38;5;241m=\u001b[39m experiment\u001b[38;5;241m.\u001b[39mstats\n\u001b[1;32m      5\u001b[0m     \u001b[38;5;66;03m# clear plot and calc nrows\u001b[39;00m\n",
      "\u001b[0;31mAttributeError\u001b[0m: 'tuple' object has no attribute 'stats'"
     ]
    }
   ],
   "source": [
    "plot(experiment)\n",
    "# plt.savefig('../plots/{}.png'.format(name))"
   ]
  },
  {
   "cell_type": "markdown",
   "id": "38e42848",
   "metadata": {},
   "source": [
    "# Render"
   ]
  },
  {
   "cell_type": "code",
   "execution_count": null,
   "id": "dfaf0ed3",
   "metadata": {},
   "outputs": [],
   "source": [
    "# dynamic plot\n",
    "anim = render(experiment, 'xs', 'fs', sliderkey='us', save_path=None, duration=5, fps=30)\n",
    "vid = anim.to_html5_video()\n",
    "HTML(vid)"
   ]
  }
 ],
 "metadata": {
  "kernelspec": {
   "display_name": "extravaganza",
   "language": "python",
   "name": "extravaganza"
  },
  "language_info": {
   "codemirror_mode": {
    "name": "ipython",
    "version": 3
   },
   "file_extension": ".py",
   "mimetype": "text/x-python",
   "name": "python",
   "nbconvert_exporter": "python",
   "pygments_lexer": "ipython3",
   "version": "3.10.8"
  }
 },
 "nbformat": 4,
 "nbformat_minor": 5
}
