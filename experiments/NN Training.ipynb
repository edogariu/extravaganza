{
 "cells": [
  {
   "cell_type": "markdown",
   "id": "ca1b0fb6",
   "metadata": {},
   "source": [
    "# Neural Network Training"
   ]
  },
  {
   "cell_type": "code",
   "execution_count": 1,
   "id": "29db997e",
   "metadata": {},
   "outputs": [
    {
     "name": "stderr",
     "output_type": "stream",
     "text": [
      "INFO: Created a temporary directory at /var/folders/5m/0xr906c130vdqvkm3g21n6wr0000gn/T/tmpowbdbi7o\n",
      "INFO: Writing /var/folders/5m/0xr906c130vdqvkm3g21n6wr0000gn/T/tmpowbdbi7o/_remote_module_non_scriptable.py\n"
     ]
    }
   ],
   "source": [
    "# imports\n",
    "import logging\n",
    "logging.basicConfig(format='%(levelname)s: %(message)s', level=logging.INFO)  # set level to INFO for wordy\n",
    "import matplotlib.pyplot as plt\n",
    "import tqdm\n",
    "\n",
    "import numpy as np\n",
    "import jax.numpy as jnp\n",
    "import torch.optim as optim\n",
    "\n",
    "from extravaganza.dynamical_systems import LinearRegression, MNIST\n",
    "\n",
    "from extravaganza.observables import TimeDelayedObservation, FullObservation, Trajectory\n",
    "from extravaganza.sysid import Lifter, LiftedController, OfflineSysid\n",
    "from extravaganza.controllers import LQR, HINF, BPC, GPC, RBPC, EvanBPC, ConstantController\n",
    "from extravaganza.rescalers import ADAM, D_ADAM, DoWG, FIXED_RESCALE\n",
    "from extravaganza.stats import Stats\n",
    "from extravaganza.utils import ylim, render, append, opnorm, dare_gain, least_squares\n",
    "from extravaganza.experiments import Experiment\n",
    "\n",
    "# seeds for randomness. setting to `None` uses random seeds\n",
    "SYSTEM_SEED = 9  # need a seed so that we generate the same linreg dataset each time\n",
    "CONTROLLER_SEED = None\n",
    "SYSID_SEED = None"
   ]
  },
  {
   "cell_type": "markdown",
   "id": "33f06917",
   "metadata": {},
   "source": [
    "## System\n",
    "Here, we tune the parameters of a gradient descent algorithm training a neural network. We can train either a linear regression or an MLP or CNN MNIST model. Any optimizer can be used, such as `SGD` or `Adam`, and any parameter can be tuned, such as `lr` or `momentum`. \n",
    "\n",
    "Which optimizer to use is specified in the `make_optimizer` argument, and how to update and tune things is specified in the `apply_control` argument.\n",
    "\n",
    "At the moment, we apply a 2-dimensional control $u = (u_0, u_1)$ that dictates 2 parameters of the learning rate schedule, given as\n",
    "$$\\eta_t := \\frac{u_0}{1 + u_1 \\cdot \\sqrt{t}},$$\n",
    "where $u_0$ is the initial learning rate and $u_1$ is a decay rate."
   ]
  },
  {
   "cell_type": "markdown",
   "id": "a0c16dbd",
   "metadata": {},
   "source": [
    "## Hyperparameters"
   ]
  },
  {
   "cell_type": "code",
   "execution_count": 10,
   "id": "2ea3889d",
   "metadata": {},
   "outputs": [],
   "source": [
    "name = 'nn'\n",
    "filename = '../logs/{}.pkl'.format(name)\n",
    "\n",
    "def get_experiment_args():\n",
    "    # --------------------------------------------------------------------------------------\n",
    "    # ------------------------    EXPERIMENT HYPERPARAMETERS    ----------------------------\n",
    "    # --------------------------------------------------------------------------------------\n",
    "\n",
    "    num_trials = 1\n",
    "    T = 10000  # total timesteps\n",
    "    T0 = 5000  # number of timesteps to just sysid for our methods\n",
    "    reset_condition = lambda t: t % 1000 == 0  # when to reset the system (which means fresh LR/MNIST model params)\n",
    "    use_multiprocessing = False  # unsure if this works in jupyter notebooks\n",
    "    render_every = None\n",
    "\n",
    "    # --------------------------------------------------------------------------------------\n",
    "    # --------------------------    SYSTEM HYPERPARAMETERS    ------------------------------\n",
    "    # --------------------------------------------------------------------------------------\n",
    "\n",
    "    initial_lr = 0.1\n",
    "    initial_decay = 0.5\n",
    "    initial_control = jnp.array([initial_lr, initial_decay])\n",
    "    du = initial_control.shape[0]\n",
    "    \n",
    "    make_optimizer = lambda model: optim.SGD(model.parameters(), lr=initial_lr)\n",
    "    def apply_control(control, system): system.opt.param_groups[0]['lr'] = max(0, control[0].item()) / (1 + max(0., control[1].item()) * system.episode_t ** 0.5)\n",
    "\n",
    "#     make_system = lambda : LinearRegression(make_optimizer, apply_control,\n",
    "#                                             dataset = 'generated', \n",
    "#                                             repeat = 3,\n",
    "#                                             eval_every = 1, seed=SYSTEM_SEED)   \n",
    "\n",
    "    make_system = lambda : MNIST(make_optimizer, apply_control,\n",
    "                                 model_type = 'MLP', batch_size = 64,\n",
    "                                 repeat = 5,\n",
    "                                 eval_every=None, seed=SYSTEM_SEED)   # best is something like (0.5, 0.05) or (0.2, 0)\n",
    "    observable = TimeDelayedObservation(hh = 3, control_dim=du, time_embedding_dim=8,\n",
    "                                        use_states=False, use_costs=True, use_controls=True, use_time=True)\n",
    "    do = observable.obs_dim  # dimension of observations to lift from\n",
    "\n",
    "    # --------------------------------------------------------------------------------------\n",
    "    # ------------------------    LIFT/SYSID HYPERPARAMETERS    ----------------------------\n",
    "    # --------------------------------------------------------------------------------------\n",
    "\n",
    "    dl = 32  # dimension of state to lift to\n",
    "    \n",
    "    sysid_args = {\n",
    "        'obs_dim': do,\n",
    "        'control_dim': du,\n",
    "        'initial_control': initial_control,\n",
    "\n",
    "        'max_traj_len': int(1e6),\n",
    "        \n",
    "        # define the sysid search space, which is centered around `initial_control`\n",
    "        'exploration_scales': (0.4, 0.5),\n",
    "        'exploration_bounds': ((0., 1.),\n",
    "                               (0., 1.)),\n",
    "\n",
    "        'depth': 6,\n",
    "        'sigma': 0,  # inject noise\n",
    "        'determinstic_encoder': True,  # whether to use VAE-type encoder or not\n",
    "        'num_epochs': 500,\n",
    "        'batch_size': 32,\n",
    "        'lifter_lr': 0.002,                                                           \n",
    "        'sysid_lr': 0.002,\n",
    "\n",
    "        'seed': SYSID_SEED,\n",
    "    }\n",
    "\n",
    "    # --------------------------------------------------------------------------------------\n",
    "    # ------------------------    CONTROLLER HYPERPARAMETERS    ----------------------------\n",
    "    # --------------------------------------------------------------------------------------\n",
    "\n",
    "    h = 5 # controller memory length (# of w's to use on inference)\n",
    "    m_update_rescaler = lambda : ADAM(alpha=0.004, betas=(0.9, 0.999), use_bias_correction=True)\n",
    "    m0_update_rescaler = lambda : ADAM(alpha=0.004, betas=(0.9, 0.999), use_bias_correction=True)\n",
    "    k_update_rescaler = lambda : ADAM(alpha=0.004, betas=(0.9, 0.999), use_bias_correction=True)\n",
    "#     m_update_rescaler = lambda : FIXED_RESCALE(alpha=0.0)\n",
    "#     m0_update_rescaler = lambda : FIXED_RESCALE(alpha=0.01)\n",
    "#     k_update_rescaler = lambda : FIXED_RESCALE(alpha=0.0)\n",
    "\n",
    "    bpc_args = {\n",
    "        'h': h,  \n",
    "        'method': 'REINFORCE',\n",
    "        'initial_scales': (0., 0.03, 0.),  # M, M0, K   (uses M0's scale for REINFORCE)\n",
    "        'rescalers': (m_update_rescaler, m0_update_rescaler, k_update_rescaler),\n",
    "#         'bounds': ([0, 0], [1, 1]),\n",
    "        'initial_u': initial_control,\n",
    "        'decay_scales': False,\n",
    "        'use_tanh': False,  # dont\n",
    "        'use_stabilizing_K': False,\n",
    "        'seed': CONTROLLER_SEED\n",
    "    }\n",
    "\n",
    "    # this is a bit of a mess at the minute, but here goes: \n",
    "    #         - `OfflineSysid` is a wrapper to do sysid phase followed by control,\n",
    "    #         - `LiftedController` is a wrapper that lifts states before passing to the controller, and \n",
    "    #         - `EvanBPC` is the controller (can be replaced with `extravaganza.controllers.RBPC` as well)\n",
    "    # I currently use lambdas as object generators to make them from scratch easily, but soon i will switch to actual\n",
    "    # generators or using deepcopies or something :)\n",
    "    \n",
    "    make_controllers = {\n",
    "        '{}/{}'.format(*[round(v.item(), 2) for v in initial_control]): lambda sys: ConstantController(initial_control, do),\n",
    "        'Linear': lambda sys: OfflineSysid(lambda sysid: LiftedController(EvanBPC(sysid.A, sysid.B, **bpc_args), sysid), \n",
    "                                                                            sysid=Lifter(method='identity', state_dim=do, **sysid_args), T0=T0),\n",
    "        'Koopman': lambda sys: OfflineSysid(lambda sysid: LiftedController(EvanBPC(sysid.A, sysid.B, **bpc_args), sysid), \n",
    "                                                                            sysid=Lifter(method='fourier', state_dim=dl, **sysid_args), T0=T0),\n",
    "        'NN': lambda sys: OfflineSysid(lambda sysid: LiftedController(EvanBPC(sysid.A, sysid.B, **bpc_args), sysid), \n",
    "                                                                            sysid=Lifter(method='nn', state_dim=dl, **sysid_args), T0=T0),\n",
    "    }\n",
    "    experiment_args = {    \n",
    "        'make_system': make_system,\n",
    "        'make_controllers': make_controllers,\n",
    "        'observable': observable,\n",
    "        'num_trials': num_trials,\n",
    "        'T': T,\n",
    "        'reset_condition': reset_condition,\n",
    "        'reset_seed': None,\n",
    "        'use_multiprocessing': use_multiprocessing,\n",
    "        'render_every': render_every,\n",
    "    }\n",
    "    return experiment_args"
   ]
  },
  {
   "cell_type": "markdown",
   "id": "87dd3a0d",
   "metadata": {},
   "source": [
    "## actually run the thing :)"
   ]
  },
  {
   "cell_type": "code",
   "execution_count": 11,
   "id": "5c78c6b6",
   "metadata": {
    "scrolled": true
   },
   "outputs": [
    {
     "name": "stderr",
     "output_type": "stream",
     "text": [
      "INFO: (EXPERIMENT) --------------------------------------------------\n",
      "INFO: (EXPERIMENT) ----------------- TRIAL 0 -----------------------\n",
      "INFO: (EXPERIMENT) --------------------------------------------------\n",
      "\n",
      "INFO: (EXPERIMENT): testing Linear\n",
      "  0%|                                                                                                                      | 0/10000 [00:00<?, ?it/s]INFO: (EXPERIMENT): reset at t=0!\n",
      "  0%|                                                                      | 4/10000 [00:00<04:58, 33.45it/s, control=[0.031907 0.5     ], cost=2.31]INFO: (SYSID WRAPPER) ending exploration at timestep 5\n",
      "INFO: (LIFTER): ending sysid phase at step 4\n",
      "  0%|                                                                  | 4/10000 [00:00<04:58, 33.45it/s, control=[0.00238087 0.9006046 ], cost=2.29]"
     ]
    },
    {
     "name": "stdout",
     "output_type": "stream",
     "text": [
      "||A||_op = 1.192935824394226\n",
      "||B||_F = 0.2356720268726349\n",
      "||A-BK||_op = 0.7605001926422119\n"
     ]
    },
    {
     "name": "stderr",
     "output_type": "stream",
     "text": [
      " 10%|██████▏                                                       | 1000/10000 [00:31<04:41, 31.98it/s, control=[0.03248889 0.94096744], cost=0.283]INFO: (EXPERIMENT): reset at t=1000!\n",
      " 20%|████████████▊                                                   | 2000/10000 [01:03<04:06, 32.44it/s, control=[0.2200052 0.8549796], cost=0.172]INFO: (EXPERIMENT): reset at t=2000!\n",
      " 28%|█████████████████▌                                             | 2781/10000 [01:27<03:47, 31.80it/s, control=[0.15978798 0.79171896], cost=0.22]\n"
     ]
    },
    {
     "ename": "KeyboardInterrupt",
     "evalue": "",
     "output_type": "error",
     "traceback": [
      "\u001b[0;31m---------------------------------------------------------------------------\u001b[0m",
      "\u001b[0;31mKeyboardInterrupt\u001b[0m                         Traceback (most recent call last)",
      "Cell \u001b[0;32mIn[11], line 3\u001b[0m\n\u001b[1;32m      1\u001b[0m \u001b[38;5;66;03m# run\u001b[39;00m\n\u001b[1;32m      2\u001b[0m experiment \u001b[38;5;241m=\u001b[39m Experiment(name)\n\u001b[0;32m----> 3\u001b[0m stats \u001b[38;5;241m=\u001b[39m \u001b[43mexperiment\u001b[49m\u001b[43m(\u001b[49m\u001b[43mget_experiment_args\u001b[49m\u001b[43m)\u001b[49m\n",
      "File \u001b[0;32m~/Desktop/extravaganza/env/lib/python3.10/site-packages/extravaganza/experiments.py:51\u001b[0m, in \u001b[0;36mExperiment.__call__\u001b[0;34m(self, *args, **kwargs)\u001b[0m\n\u001b[1;32m     49\u001b[0m     \u001b[38;5;28mself\u001b[39m\u001b[38;5;241m.\u001b[39mget_args \u001b[38;5;241m=\u001b[39m get_args\n\u001b[1;32m     50\u001b[0m     experiment_args \u001b[38;5;241m=\u001b[39m \u001b[38;5;28mself\u001b[39m\u001b[38;5;241m.\u001b[39mget_args()\n\u001b[0;32m---> 51\u001b[0m     stats \u001b[38;5;241m=\u001b[39m \u001b[38;5;28;43mself\u001b[39;49m\u001b[38;5;241;43m.\u001b[39;49m\u001b[43m_run_experiment\u001b[49m\u001b[43m(\u001b[49m\u001b[38;5;241;43m*\u001b[39;49m\u001b[38;5;241;43m*\u001b[39;49m\u001b[43mexperiment_args\u001b[49m\u001b[43m)\u001b[49m\n\u001b[1;32m     52\u001b[0m \u001b[38;5;28;01melse\u001b[39;00m:\n\u001b[1;32m     53\u001b[0m     logging\u001b[38;5;241m.\u001b[39mwarn(\u001b[38;5;124m'\u001b[39m\u001b[38;5;124m(EXPERIMENT): you are providing the experiment args directly and not through a getter function, which means we wont be able to print the args later :(\u001b[39m\u001b[38;5;124m'\u001b[39m)\n",
      "File \u001b[0;32m~/Desktop/extravaganza/env/lib/python3.10/site-packages/extravaganza/experiments.py:266\u001b[0m, in \u001b[0;36mExperiment._run_experiment\u001b[0;34m(self, make_system, make_controllers, observable, num_trials, T, reset_condition, reset_seed, use_multiprocessing, render_every)\u001b[0m\n\u001b[1;32m    264\u001b[0m \u001b[38;5;28;01mfor\u001b[39;00m k, controller_func \u001b[38;5;129;01min\u001b[39;00m make_controllers\u001b[38;5;241m.\u001b[39mitems():\n\u001b[1;32m    265\u001b[0m     logging\u001b[38;5;241m.\u001b[39minfo(\u001b[38;5;124m'\u001b[39m\u001b[38;5;124m(EXPERIMENT): testing \u001b[39m\u001b[38;5;132;01m{}\u001b[39;00m\u001b[38;5;124m'\u001b[39m\u001b[38;5;241m.\u001b[39mformat(k))\n\u001b[0;32m--> 266\u001b[0m     s \u001b[38;5;241m=\u001b[39m \u001b[38;5;28;43mself\u001b[39;49m\u001b[38;5;241;43m.\u001b[39;49m\u001b[43m_run_trial\u001b[49m\u001b[43m(\u001b[49m\u001b[43mmake_system\u001b[49m\u001b[43m,\u001b[49m\u001b[43m \u001b[49m\u001b[43mcontroller_func\u001b[49m\u001b[43m,\u001b[49m\u001b[43m \u001b[49m\u001b[43mobservable\u001b[49m\u001b[43m,\u001b[49m\u001b[43m \u001b[49m\u001b[43mT\u001b[49m\u001b[43m,\u001b[49m\u001b[43m \u001b[49m\u001b[43mreset_condition\u001b[49m\u001b[43m,\u001b[49m\u001b[43m \u001b[49m\u001b[43mreset_seed\u001b[49m\u001b[43m,\u001b[49m\u001b[43m \u001b[49m\u001b[43mrender_every\u001b[49m\u001b[38;5;241;43m=\u001b[39;49m\u001b[43mrender_every\u001b[49m\u001b[43m,\u001b[49m\u001b[43m \u001b[49m\u001b[38;5;28;43mid\u001b[39;49m\u001b[38;5;241;43m=\u001b[39;49m\u001b[43mk\u001b[49m\u001b[43m)\u001b[49m\n\u001b[1;32m    267\u001b[0m     \u001b[38;5;28;01mif\u001b[39;00m s \u001b[38;5;129;01mis\u001b[39;00m \u001b[38;5;129;01mnot\u001b[39;00m \u001b[38;5;28;01mNone\u001b[39;00m: stats[k]\u001b[38;5;241m.\u001b[39mappend(s)\n\u001b[1;32m    268\u001b[0m     logging\u001b[38;5;241m.\u001b[39minfo(\u001b[38;5;124m'\u001b[39m\u001b[38;5;124m'\u001b[39m)\n",
      "File \u001b[0;32m~/Desktop/extravaganza/env/lib/python3.10/site-packages/extravaganza/experiments.py:165\u001b[0m, in \u001b[0;36mExperiment._run_trial\u001b[0;34m(self, make_system, make_controller, observable, T, reset_condition, reset_seed, render_every, append_list, id, seed)\u001b[0m\n\u001b[1;32m    162\u001b[0m     \u001b[38;5;66;03m# if isinstance(observable, TimeDelayedObservation): traj.pad(observable.hh, controller.control_dim, observable.obs_dim)\u001b[39;00m\n\u001b[1;32m    163\u001b[0m     \u001b[38;5;28;01mpass\u001b[39;00m\n\u001b[0;32m--> 165\u001b[0m next_cost, next_state \u001b[38;5;241m=\u001b[39m \u001b[43msystem\u001b[49m\u001b[38;5;241;43m.\u001b[39;49m\u001b[43minteract\u001b[49m\u001b[43m(\u001b[49m\u001b[43mcontrol\u001b[49m\u001b[43m)\u001b[49m  \u001b[38;5;66;03m# state will be `None` for unobservable systems\u001b[39;00m\n\u001b[1;32m    166\u001b[0m traj\u001b[38;5;241m.\u001b[39madd_state(next_cost, next_state)\n\u001b[1;32m    167\u001b[0m next_obs \u001b[38;5;241m=\u001b[39m observable(traj)\n",
      "File \u001b[0;32m~/Desktop/extravaganza/env/lib/python3.10/site-packages/extravaganza/dynamical_systems.py:105\u001b[0m, in \u001b[0;36mNNTraining.interact\u001b[0;34m(self, control)\u001b[0m\n\u001b[1;32m    102\u001b[0m \u001b[38;5;28;01mfor\u001b[39;00m _ \u001b[38;5;129;01min\u001b[39;00m \u001b[38;5;28mrange\u001b[39m(\u001b[38;5;28mself\u001b[39m\u001b[38;5;241m.\u001b[39mrepeat):\n\u001b[1;32m    103\u001b[0m     \u001b[38;5;66;03m# train step (observe costs)\u001b[39;00m\n\u001b[1;32m    104\u001b[0m     \u001b[38;5;28;01mtry\u001b[39;00m: \n\u001b[0;32m--> 105\u001b[0m         x, y \u001b[38;5;241m=\u001b[39m \u001b[38;5;28;43mnext\u001b[39;49m\u001b[43m(\u001b[49m\u001b[38;5;28;43mself\u001b[39;49m\u001b[38;5;241;43m.\u001b[39;49m\u001b[43mdl\u001b[49m\u001b[43m)\u001b[49m\n\u001b[1;32m    106\u001b[0m     \u001b[38;5;28;01mexcept\u001b[39;00m \u001b[38;5;167;01mStopIteration\u001b[39;00m: \n\u001b[1;32m    107\u001b[0m         \u001b[38;5;28mself\u001b[39m\u001b[38;5;241m.\u001b[39mdl \u001b[38;5;241m=\u001b[39m \u001b[38;5;28miter\u001b[39m(\u001b[38;5;28mself\u001b[39m\u001b[38;5;241m.\u001b[39mtrain_dl)\n",
      "File \u001b[0;32m~/Desktop/extravaganza/env/lib/python3.10/site-packages/torch/utils/data/dataloader.py:633\u001b[0m, in \u001b[0;36m_BaseDataLoaderIter.__next__\u001b[0;34m(self)\u001b[0m\n\u001b[1;32m    630\u001b[0m \u001b[38;5;28;01mif\u001b[39;00m \u001b[38;5;28mself\u001b[39m\u001b[38;5;241m.\u001b[39m_sampler_iter \u001b[38;5;129;01mis\u001b[39;00m \u001b[38;5;28;01mNone\u001b[39;00m:\n\u001b[1;32m    631\u001b[0m     \u001b[38;5;66;03m# TODO(https://github.com/pytorch/pytorch/issues/76750)\u001b[39;00m\n\u001b[1;32m    632\u001b[0m     \u001b[38;5;28mself\u001b[39m\u001b[38;5;241m.\u001b[39m_reset()  \u001b[38;5;66;03m# type: ignore[call-arg]\u001b[39;00m\n\u001b[0;32m--> 633\u001b[0m data \u001b[38;5;241m=\u001b[39m \u001b[38;5;28;43mself\u001b[39;49m\u001b[38;5;241;43m.\u001b[39;49m\u001b[43m_next_data\u001b[49m\u001b[43m(\u001b[49m\u001b[43m)\u001b[49m\n\u001b[1;32m    634\u001b[0m \u001b[38;5;28mself\u001b[39m\u001b[38;5;241m.\u001b[39m_num_yielded \u001b[38;5;241m+\u001b[39m\u001b[38;5;241m=\u001b[39m \u001b[38;5;241m1\u001b[39m\n\u001b[1;32m    635\u001b[0m \u001b[38;5;28;01mif\u001b[39;00m \u001b[38;5;28mself\u001b[39m\u001b[38;5;241m.\u001b[39m_dataset_kind \u001b[38;5;241m==\u001b[39m _DatasetKind\u001b[38;5;241m.\u001b[39mIterable \u001b[38;5;129;01mand\u001b[39;00m \\\n\u001b[1;32m    636\u001b[0m         \u001b[38;5;28mself\u001b[39m\u001b[38;5;241m.\u001b[39m_IterableDataset_len_called \u001b[38;5;129;01mis\u001b[39;00m \u001b[38;5;129;01mnot\u001b[39;00m \u001b[38;5;28;01mNone\u001b[39;00m \u001b[38;5;129;01mand\u001b[39;00m \\\n\u001b[1;32m    637\u001b[0m         \u001b[38;5;28mself\u001b[39m\u001b[38;5;241m.\u001b[39m_num_yielded \u001b[38;5;241m>\u001b[39m \u001b[38;5;28mself\u001b[39m\u001b[38;5;241m.\u001b[39m_IterableDataset_len_called:\n",
      "File \u001b[0;32m~/Desktop/extravaganza/env/lib/python3.10/site-packages/torch/utils/data/dataloader.py:677\u001b[0m, in \u001b[0;36m_SingleProcessDataLoaderIter._next_data\u001b[0;34m(self)\u001b[0m\n\u001b[1;32m    675\u001b[0m \u001b[38;5;28;01mdef\u001b[39;00m \u001b[38;5;21m_next_data\u001b[39m(\u001b[38;5;28mself\u001b[39m):\n\u001b[1;32m    676\u001b[0m     index \u001b[38;5;241m=\u001b[39m \u001b[38;5;28mself\u001b[39m\u001b[38;5;241m.\u001b[39m_next_index()  \u001b[38;5;66;03m# may raise StopIteration\u001b[39;00m\n\u001b[0;32m--> 677\u001b[0m     data \u001b[38;5;241m=\u001b[39m \u001b[38;5;28;43mself\u001b[39;49m\u001b[38;5;241;43m.\u001b[39;49m\u001b[43m_dataset_fetcher\u001b[49m\u001b[38;5;241;43m.\u001b[39;49m\u001b[43mfetch\u001b[49m\u001b[43m(\u001b[49m\u001b[43mindex\u001b[49m\u001b[43m)\u001b[49m  \u001b[38;5;66;03m# may raise StopIteration\u001b[39;00m\n\u001b[1;32m    678\u001b[0m     \u001b[38;5;28;01mif\u001b[39;00m \u001b[38;5;28mself\u001b[39m\u001b[38;5;241m.\u001b[39m_pin_memory:\n\u001b[1;32m    679\u001b[0m         data \u001b[38;5;241m=\u001b[39m _utils\u001b[38;5;241m.\u001b[39mpin_memory\u001b[38;5;241m.\u001b[39mpin_memory(data, \u001b[38;5;28mself\u001b[39m\u001b[38;5;241m.\u001b[39m_pin_memory_device)\n",
      "File \u001b[0;32m~/Desktop/extravaganza/env/lib/python3.10/site-packages/torch/utils/data/_utils/fetch.py:51\u001b[0m, in \u001b[0;36m_MapDatasetFetcher.fetch\u001b[0;34m(self, possibly_batched_index)\u001b[0m\n\u001b[1;32m     49\u001b[0m         data \u001b[38;5;241m=\u001b[39m \u001b[38;5;28mself\u001b[39m\u001b[38;5;241m.\u001b[39mdataset\u001b[38;5;241m.\u001b[39m__getitems__(possibly_batched_index)\n\u001b[1;32m     50\u001b[0m     \u001b[38;5;28;01melse\u001b[39;00m:\n\u001b[0;32m---> 51\u001b[0m         data \u001b[38;5;241m=\u001b[39m [\u001b[38;5;28mself\u001b[39m\u001b[38;5;241m.\u001b[39mdataset[idx] \u001b[38;5;28;01mfor\u001b[39;00m idx \u001b[38;5;129;01min\u001b[39;00m possibly_batched_index]\n\u001b[1;32m     52\u001b[0m \u001b[38;5;28;01melse\u001b[39;00m:\n\u001b[1;32m     53\u001b[0m     data \u001b[38;5;241m=\u001b[39m \u001b[38;5;28mself\u001b[39m\u001b[38;5;241m.\u001b[39mdataset[possibly_batched_index]\n",
      "File \u001b[0;32m~/Desktop/extravaganza/env/lib/python3.10/site-packages/torch/utils/data/_utils/fetch.py:51\u001b[0m, in \u001b[0;36m<listcomp>\u001b[0;34m(.0)\u001b[0m\n\u001b[1;32m     49\u001b[0m         data \u001b[38;5;241m=\u001b[39m \u001b[38;5;28mself\u001b[39m\u001b[38;5;241m.\u001b[39mdataset\u001b[38;5;241m.\u001b[39m__getitems__(possibly_batched_index)\n\u001b[1;32m     50\u001b[0m     \u001b[38;5;28;01melse\u001b[39;00m:\n\u001b[0;32m---> 51\u001b[0m         data \u001b[38;5;241m=\u001b[39m [\u001b[38;5;28;43mself\u001b[39;49m\u001b[38;5;241;43m.\u001b[39;49m\u001b[43mdataset\u001b[49m\u001b[43m[\u001b[49m\u001b[43midx\u001b[49m\u001b[43m]\u001b[49m \u001b[38;5;28;01mfor\u001b[39;00m idx \u001b[38;5;129;01min\u001b[39;00m possibly_batched_index]\n\u001b[1;32m     52\u001b[0m \u001b[38;5;28;01melse\u001b[39;00m:\n\u001b[1;32m     53\u001b[0m     data \u001b[38;5;241m=\u001b[39m \u001b[38;5;28mself\u001b[39m\u001b[38;5;241m.\u001b[39mdataset[possibly_batched_index]\n",
      "File \u001b[0;32m~/Desktop/extravaganza/env/lib/python3.10/site-packages/torchvision/datasets/mnist.py:145\u001b[0m, in \u001b[0;36mMNIST.__getitem__\u001b[0;34m(self, index)\u001b[0m\n\u001b[1;32m    142\u001b[0m img \u001b[38;5;241m=\u001b[39m Image\u001b[38;5;241m.\u001b[39mfromarray(img\u001b[38;5;241m.\u001b[39mnumpy(), mode\u001b[38;5;241m=\u001b[39m\u001b[38;5;124m\"\u001b[39m\u001b[38;5;124mL\u001b[39m\u001b[38;5;124m\"\u001b[39m)\n\u001b[1;32m    144\u001b[0m \u001b[38;5;28;01mif\u001b[39;00m \u001b[38;5;28mself\u001b[39m\u001b[38;5;241m.\u001b[39mtransform \u001b[38;5;129;01mis\u001b[39;00m \u001b[38;5;129;01mnot\u001b[39;00m \u001b[38;5;28;01mNone\u001b[39;00m:\n\u001b[0;32m--> 145\u001b[0m     img \u001b[38;5;241m=\u001b[39m \u001b[38;5;28;43mself\u001b[39;49m\u001b[38;5;241;43m.\u001b[39;49m\u001b[43mtransform\u001b[49m\u001b[43m(\u001b[49m\u001b[43mimg\u001b[49m\u001b[43m)\u001b[49m\n\u001b[1;32m    147\u001b[0m \u001b[38;5;28;01mif\u001b[39;00m \u001b[38;5;28mself\u001b[39m\u001b[38;5;241m.\u001b[39mtarget_transform \u001b[38;5;129;01mis\u001b[39;00m \u001b[38;5;129;01mnot\u001b[39;00m \u001b[38;5;28;01mNone\u001b[39;00m:\n\u001b[1;32m    148\u001b[0m     target \u001b[38;5;241m=\u001b[39m \u001b[38;5;28mself\u001b[39m\u001b[38;5;241m.\u001b[39mtarget_transform(target)\n",
      "File \u001b[0;32m~/Desktop/extravaganza/env/lib/python3.10/site-packages/torchvision/transforms/transforms.py:95\u001b[0m, in \u001b[0;36mCompose.__call__\u001b[0;34m(self, img)\u001b[0m\n\u001b[1;32m     93\u001b[0m \u001b[38;5;28;01mdef\u001b[39;00m \u001b[38;5;21m__call__\u001b[39m(\u001b[38;5;28mself\u001b[39m, img):\n\u001b[1;32m     94\u001b[0m     \u001b[38;5;28;01mfor\u001b[39;00m t \u001b[38;5;129;01min\u001b[39;00m \u001b[38;5;28mself\u001b[39m\u001b[38;5;241m.\u001b[39mtransforms:\n\u001b[0;32m---> 95\u001b[0m         img \u001b[38;5;241m=\u001b[39m \u001b[43mt\u001b[49m\u001b[43m(\u001b[49m\u001b[43mimg\u001b[49m\u001b[43m)\u001b[49m\n\u001b[1;32m     96\u001b[0m     \u001b[38;5;28;01mreturn\u001b[39;00m img\n",
      "File \u001b[0;32m~/Desktop/extravaganza/env/lib/python3.10/site-packages/torchvision/transforms/transforms.py:137\u001b[0m, in \u001b[0;36mToTensor.__call__\u001b[0;34m(self, pic)\u001b[0m\n\u001b[1;32m    129\u001b[0m \u001b[38;5;28;01mdef\u001b[39;00m \u001b[38;5;21m__call__\u001b[39m(\u001b[38;5;28mself\u001b[39m, pic):\n\u001b[1;32m    130\u001b[0m \u001b[38;5;250m    \u001b[39m\u001b[38;5;124;03m\"\"\"\u001b[39;00m\n\u001b[1;32m    131\u001b[0m \u001b[38;5;124;03m    Args:\u001b[39;00m\n\u001b[1;32m    132\u001b[0m \u001b[38;5;124;03m        pic (PIL Image or numpy.ndarray): Image to be converted to tensor.\u001b[39;00m\n\u001b[0;32m   (...)\u001b[0m\n\u001b[1;32m    135\u001b[0m \u001b[38;5;124;03m        Tensor: Converted image.\u001b[39;00m\n\u001b[1;32m    136\u001b[0m \u001b[38;5;124;03m    \"\"\"\u001b[39;00m\n\u001b[0;32m--> 137\u001b[0m     \u001b[38;5;28;01mreturn\u001b[39;00m \u001b[43mF\u001b[49m\u001b[38;5;241;43m.\u001b[39;49m\u001b[43mto_tensor\u001b[49m\u001b[43m(\u001b[49m\u001b[43mpic\u001b[49m\u001b[43m)\u001b[49m\n",
      "File \u001b[0;32m~/Desktop/extravaganza/env/lib/python3.10/site-packages/torchvision/transforms/functional.py:172\u001b[0m, in \u001b[0;36mto_tensor\u001b[0;34m(pic)\u001b[0m\n\u001b[1;32m    170\u001b[0m img \u001b[38;5;241m=\u001b[39m img\u001b[38;5;241m.\u001b[39mview(pic\u001b[38;5;241m.\u001b[39msize[\u001b[38;5;241m1\u001b[39m], pic\u001b[38;5;241m.\u001b[39msize[\u001b[38;5;241m0\u001b[39m], F_pil\u001b[38;5;241m.\u001b[39mget_image_num_channels(pic))\n\u001b[1;32m    171\u001b[0m \u001b[38;5;66;03m# put it from HWC to CHW format\u001b[39;00m\n\u001b[0;32m--> 172\u001b[0m img \u001b[38;5;241m=\u001b[39m \u001b[43mimg\u001b[49m\u001b[38;5;241;43m.\u001b[39;49m\u001b[43mpermute\u001b[49m\u001b[43m(\u001b[49m\u001b[43m(\u001b[49m\u001b[38;5;241;43m2\u001b[39;49m\u001b[43m,\u001b[49m\u001b[43m \u001b[49m\u001b[38;5;241;43m0\u001b[39;49m\u001b[43m,\u001b[49m\u001b[43m \u001b[49m\u001b[38;5;241;43m1\u001b[39;49m\u001b[43m)\u001b[49m\u001b[43m)\u001b[49m\u001b[38;5;241m.\u001b[39mcontiguous()\n\u001b[1;32m    173\u001b[0m \u001b[38;5;28;01mif\u001b[39;00m \u001b[38;5;28misinstance\u001b[39m(img, torch\u001b[38;5;241m.\u001b[39mByteTensor):\n\u001b[1;32m    174\u001b[0m     \u001b[38;5;28;01mreturn\u001b[39;00m img\u001b[38;5;241m.\u001b[39mto(dtype\u001b[38;5;241m=\u001b[39mdefault_float_dtype)\u001b[38;5;241m.\u001b[39mdiv(\u001b[38;5;241m255\u001b[39m)\n",
      "\u001b[0;31mKeyboardInterrupt\u001b[0m: "
     ]
    }
   ],
   "source": [
    "# run\n",
    "experiment = Experiment(name)\n",
    "stats = experiment(get_experiment_args)"
   ]
  },
  {
   "cell_type": "code",
   "execution_count": null,
   "id": "044a38b7",
   "metadata": {},
   "outputs": [],
   "source": [
    "# save args and stats!  --  note that to save the args, we actually save the `get_args` function. we can print the \n",
    "#                           source code later to see the hyperparameters we chose\n",
    "# experiment.save(filename)"
   ]
  },
  {
   "cell_type": "markdown",
   "id": "e8107c23",
   "metadata": {},
   "source": [
    "## Visualization\n",
    "We keep track of the useful information through `Stats` objects, which can `register()` a variable to keep track of (which it does via calls to `update()`) and which can be aggregated via `Stats.aggregate()` for mean and variance statistics. \n",
    "\n",
    "We define below a plotting arrangement that plots all the desired quantities from both the system and controller."
   ]
  },
  {
   "cell_type": "code",
   "execution_count": null,
   "id": "3f72342a",
   "metadata": {},
   "outputs": [],
   "source": [
    "def plot(experiment: Experiment):\n",
    "    assert experiment.stats is not None, 'cannot plot the results of an experiment that hasnt been run'\n",
    "    all_stats = experiment.stats\n",
    "    \n",
    "    # clear plot and calc nrows\n",
    "    plt.clf()\n",
    "    n = 4\n",
    "    nrows = n + (len(all_stats) + 1) // 2\n",
    "    fig, ax = plt.subplots(nrows, 2, figsize=(16, 6 * nrows))\n",
    "\n",
    "    # plot stats\n",
    "    for i, (method, stats) in enumerate(all_stats.items()):\n",
    "        if stats is None: \n",
    "            logging.warning('{} had no stats'.format(method))\n",
    "            continue\n",
    "            \n",
    "        stats.plot(ax[0, 0], 'lrs', label=method)\n",
    "        stats.plot(ax[1, 0], 'costs', label=method)\n",
    "        stats.plot(ax[1, 1], 'costs', label=method, plot_cummean=True)\n",
    "        stats.plot(ax[2, 0], 'avg train losses since reset', label=method)\n",
    "        stats.plot(ax[2, 1], 'avg val losses since reset', label=method)        \n",
    "        \n",
    "        stats.plot(ax[3, 0], 'states', label=method, plot_norm=True)  # norm of the \"state\"\n",
    "        from extravaganza.sysid import LOSS_WEIGHTS\n",
    "        for k in LOSS_WEIGHTS.keys(): stats.plot(ax[3, 1], k, label=k)  # various nn losses\n",
    "            \n",
    "        i_ax = ax[n + i // 2, i % 2]\n",
    "        stats.plot(ax[0, 1], 'disturbances', label=method, plot_norm=True)\n",
    "        idx = 0\n",
    "        stats.plot(i_ax, '-K @ state', label='-K @ state', plot_idx=idx)\n",
    "        stats.plot(i_ax, 'M \\cdot w', label='M \\cdot w', plot_idx=idx)\n",
    "        stats.plot(i_ax, 'M0', label='M0', plot_idx=idx)\n",
    "        i_ax.set_title('u decomp for {}'.format(method))\n",
    "        i_ax.legend()\n",
    "\n",
    "    # set titles and legends and limits and such\n",
    "    # (note: `ylim()` is so useful! because sometimes one thing blows up and then autoscale messes up all plots)\n",
    "    _ax = ax[0, 0]; _ax.set_title('learning rate'); _ax.legend()\n",
    "    _ax = ax[0, 1]; _ax.set_title('disturbances'); _ax.legend()\n",
    "    _ax = ax[1, 0]; _ax.set_title('instantaneous costs'); _ax.legend()\n",
    "    _ax = ax[1, 1]; _ax.set_title('avg costs'); _ax.legend(); ylim(_ax, 0, 10000)\n",
    "    _ax = ax[2, 0]; _ax.set_title('avg train losses since reset'); _ax.legend()\n",
    "    _ax = ax[2, 1]; _ax.set_title('avg val losses since reset'); _ax.legend()\n",
    "    _ax = ax[3, 0]; _ax.set_title('reconstructed states'); _ax.legend()\n",
    "    _ax = ax[3, 1]; _ax.set_title('nn losses'); _ax.legend()  \n",
    "    pass\n",
    "plot(experiment)"
   ]
  },
  {
   "cell_type": "markdown",
   "id": "5c6c615b",
   "metadata": {},
   "source": [
    "### Dynamic Plot"
   ]
  },
  {
   "cell_type": "code",
   "execution_count": null,
   "id": "e4dad336",
   "metadata": {},
   "outputs": [],
   "source": [
    "# dynamic plot\n",
    "anim = render(experiment, 'lrs', 'train losses', sliderkey='lrs', save_path=None, duration=5)\n",
    "vid = anim.to_html5_video()\n",
    "HTML(vid)"
   ]
  }
 ],
 "metadata": {
  "kernelspec": {
   "display_name": "extravaganza",
   "language": "python",
   "name": "extravaganza"
  },
  "language_info": {
   "codemirror_mode": {
    "name": "ipython",
    "version": 3
   },
   "file_extension": ".py",
   "mimetype": "text/x-python",
   "name": "python",
   "nbconvert_exporter": "python",
   "pygments_lexer": "ipython3",
   "version": "3.10.8"
  }
 },
 "nbformat": 4,
 "nbformat_minor": 5
}
