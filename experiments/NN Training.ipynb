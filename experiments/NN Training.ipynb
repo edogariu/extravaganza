{
 "cells": [
  {
   "cell_type": "markdown",
   "id": "ca1b0fb6",
   "metadata": {},
   "source": [
    "# Neural Network Training"
   ]
  },
  {
   "cell_type": "code",
   "execution_count": 1,
   "id": "29db997e",
   "metadata": {},
   "outputs": [],
   "source": [
    "import matplotlib.pyplot as plt\n",
    "\n",
    "import torch.optim as optim\n",
    "import numpy as np\n",
    "import jax.numpy as jnp\n",
    "\n",
    "from extravaganza.dynamical_systems import LinearRegression, MNIST\n",
    "\n",
    "from extravaganza.lifters import NoLift, RandomLift, LearnedLift\n",
    "from extravaganza.sysid import SysID\n",
    "from extravaganza.controllers import LiftedBPC, ConstantController\n",
    "from extravaganza.rescalers import ADAM, D_ADAM, DoWG\n",
    "from experiments import run_experiment, ylim\n",
    "\n",
    "# seeds for randomness. setting to `None` uses random seeds\n",
    "SYSTEM_SEED = None\n",
    "CONTROLLER_SEED = None\n",
    "LIFTER_AND_SYSID_SEED = None"
   ]
  },
  {
   "cell_type": "markdown",
   "id": "33f06917",
   "metadata": {},
   "source": [
    "## System\n",
    "Here, we tune the parameters of a gradient descent algorithm training a neural network. We can train either a linear regression or an MLP or CNN MNIST model. Any optimizer can be used, such as `SGD` or `Adam`, and any parameter can be tuned, such as `lr` or `momentum`. \n",
    "\n",
    "Which optimizer to use is specified in the `make_optimizer` argument, and how to update and tune things is specified in the `apply_control` argument"
   ]
  },
  {
   "cell_type": "markdown",
   "id": "a0c16dbd",
   "metadata": {},
   "source": [
    "## Hyperparameters"
   ]
  },
  {
   "cell_type": "code",
   "execution_count": 2,
   "id": "2ea3889d",
   "metadata": {},
   "outputs": [],
   "source": [
    "# --------------------------------------------------------------------------------------\n",
    "# ------------------------    EXPERIMENT HYPERPARAMETERS    ----------------------------\n",
    "# --------------------------------------------------------------------------------------\n",
    "\n",
    "num_trials = 1\n",
    "T = 5000  # total timesteps\n",
    "T0 = 3000  # number of timesteps to just sysid for our methods\n",
    "reset_every = 1000  # how often to reset the system\n",
    "wordy = True  # whether to print some things\n",
    "\n",
    "# --------------------------------------------------------------------------------------\n",
    "# --------------------------    SYSTEM HYPERPARAMETERS    ------------------------------\n",
    "# --------------------------------------------------------------------------------------\n",
    "\n",
    "du = 1\n",
    "initial_lr = 0.4\n",
    "make_optimizer = lambda model: optim.SGD(model.parameters(), lr=initial_lr)\n",
    "def apply_control(control, system): system.opt.param_groups[0]['lr'] = initial_lr * 1.2 ** np.clip(control.item(), -5, 5)\n",
    "\n",
    "make_system = lambda : LinearRegression(make_optimizer, apply_control,\n",
    "                                        dataset = 'generated', \n",
    "                                        eval_every=1, seed=SYSTEM_SEED)\n",
    "\n",
    "# make_system = lambda : MNIST(make_optimizer, apply_control,\n",
    "#                              model_type = 'MLP', batch_size = 64,\n",
    "#                              eval_every=None, seed=SYSTEM_SEED)\n",
    "\n",
    "# --------------------------------------------------------------------------------------\n",
    "# ------------------------    LIFT/SYSID HYPERPARAMETERS    ----------------------------\n",
    "# --------------------------------------------------------------------------------------\n",
    "\n",
    "sysid_method = 'regression'\n",
    "sysid_scale = 0.2\n",
    "\n",
    "learned_lift_args = {\n",
    "    'lift_lr': 0.001,\n",
    "    'sysid_lr': 0.001,\n",
    "    'cost_lr': 0.001,\n",
    "    'depth': 5,\n",
    "    'buffer_maxlen': int(1e6),\n",
    "    'num_epochs': 100,\n",
    "    'batch_size': 64,\n",
    "    'seed': LIFTER_AND_SYSID_SEED\n",
    "}\n",
    "\n",
    "# --------------------------------------------------------------------------------------\n",
    "# ------------------------    CONTROLLER HYPERPARAMETERS    ----------------------------\n",
    "# --------------------------------------------------------------------------------------\n",
    "\n",
    "h = 20  # controller memory length (# of w's to use on inference)\n",
    "hh = 20  # history length of the cost/control histories\n",
    "lift_dim = 40  # dimension to lift to\n",
    "\n",
    "m_update_rescaler = lambda : ADAM(0.002, betas=(0.9, 0.999))\n",
    "m0_update_rescaler = lambda : ADAM(0.002, betas=(0.9, 0.999))\n",
    "k_update_rescaler = lambda : ADAM(0.00, betas=(0.9, 0.999))\n",
    "\n",
    "lifted_bpc_args = {\n",
    "    'h': h,\n",
    "    'method': 'REINFORCE',\n",
    "    'initial_scales': (0.1, 0.1, 0.0),  # M, M0, K   (uses M0's scale for REINFORCE)\n",
    "    'rescalers': (m_update_rescaler, m0_update_rescaler, k_update_rescaler),\n",
    "    'T0': T0,\n",
    "    'bounds': (-5, 5),\n",
    "    'initial_u': jnp.zeros(du),\n",
    "    'decay_scales': True,\n",
    "    'use_tanh': False,\n",
    "    'use_K_from_sysid': True,\n",
    "    'seed': CONTROLLER_SEED\n",
    "}\n",
    "\n",
    "make_controllers = {\n",
    "    'Zero': lambda sys: ConstantController(0, du),\n",
    "    'No Lift': lambda sys: LiftedBPC(lifter=NoLift(hh, du, LIFTER_AND_SYSID_SEED), sysid=SysID(sysid_method, du, hh, sysid_scale, LIFTER_AND_SYSID_SEED), **lifted_bpc_args),\n",
    "    'Random Lift': lambda sys: LiftedBPC(lifter=RandomLift(hh, du, lift_dim, learned_lift_args['depth'], LIFTER_AND_SYSID_SEED), sysid=SysID(sysid_method, du, lift_dim, sysid_scale, LIFTER_AND_SYSID_SEED), **lifted_bpc_args),\n",
    "    'Learned Lift': lambda sys: LiftedBPC(lifter=LearnedLift(hh, du, lift_dim, scale=sysid_scale, **learned_lift_args), **lifted_bpc_args)\n",
    "}"
   ]
  },
  {
   "cell_type": "markdown",
   "id": "e8107c23",
   "metadata": {},
   "source": [
    "## Plotting\n",
    "We keep track of the useful information through `Stats` objects, which can `register()` a variable to keep track of (which it does via calls to `update()`) and which can be aggregated via `Stats.aggregate()` for mean and variance statistics. \n",
    "\n",
    "We define below a plotting arrangement that plots all the desired quantities from both the system and controller."
   ]
  },
  {
   "cell_type": "code",
   "execution_count": 3,
   "id": "5666408b",
   "metadata": {},
   "outputs": [],
   "source": [
    "def plot_nn(all_stats):\n",
    "    # clear plot and calc nrows\n",
    "    plt.clf()\n",
    "    n = 4\n",
    "    nrows = n + (len(all_stats) + 1) // 2\n",
    "    fig, ax = plt.subplots(nrows, 2, figsize=(16, 4 * nrows))\n",
    "\n",
    "    # plot system and controller stats\n",
    "    for i, (method, stats) in enumerate(all_stats.items()):\n",
    "        if stats is None: \n",
    "            print('WARNING: {} had no stats'.format(method))\n",
    "            continue\n",
    "        stats.plot(ax[0, 0], 'lrs', label=method)\n",
    "#         stats.plot(ax[0, 1], 'ws', label=method)\n",
    "        stats.plot(ax[1, 0], 'train losses', label=method)\n",
    "        stats.plot(ax[1, 1], 'val losses', label=method)\n",
    "    \n",
    "        stats.plot(ax[2, 0], '||A||_op', label=method)\n",
    "        stats.plot(ax[2, 1], '||B||_F', label=method)\n",
    "        stats.plot(ax[3, 0], '||A-BK||_op', label=method)\n",
    "        stats.plot(ax[3, 1], 'lifter losses', label=method)\n",
    "        i_ax = ax[n + i // 2, i % 2]\n",
    "        stats.plot(ax[0, 1], 'disturbances', label=method)\n",
    "        stats.plot(i_ax, 'K @ state', label='K @ state')\n",
    "        stats.plot(i_ax, 'M \\cdot w', label='M \\cdot w')\n",
    "        stats.plot(i_ax, 'M0', label='M0')\n",
    "        i_ax.set_title('u decomp for {}'.format(method))\n",
    "        i_ax.legend()\n",
    "    \n",
    "    # set titles and legends and limits and such\n",
    "    # (note: `ylim()` is so useful! because sometimes one thing blows up and then autoscale messes up all plots)\n",
    "    _ax = ax[0, 0]; _ax.set_title('lr'); _ax.legend(); ylim(_ax, -1, 2)\n",
    "    _ax = ax[0, 1]; _ax.set_title('disturbances'); _ax.legend(); ylim(_ax, -5, 5)\n",
    "    _ax = ax[1, 0]; _ax.set_title('train losses'); _ax.legend(); ylim(_ax, -2, 5)\n",
    "    _ax = ax[1, 1]; _ax.set_title('val losses'); _ax.legend(); ylim(_ax, -2, 5)\n",
    "    \n",
    "    _ax = ax[2, 0]; _ax.set_title('||A||_op'); _ax.legend()\n",
    "    _ax = ax[2, 1]; _ax.set_title('||B||_F'); _ax.legend()\n",
    "    \n",
    "    _ax = ax[3, 0]; _ax.set_title('||A-BK||_op'); _ax.legend()\n",
    "    _ax = ax[3, 1]; _ax.set_title('lifter losses'); _ax.legend()\n",
    "    pass"
   ]
  },
  {
   "cell_type": "markdown",
   "id": "87dd3a0d",
   "metadata": {},
   "source": [
    "## actually run the thing :)"
   ]
  },
  {
   "cell_type": "code",
   "execution_count": 4,
   "id": "c39faee1",
   "metadata": {
    "scrolled": true
   },
   "outputs": [
    {
     "name": "stdout",
     "output_type": "stream",
     "text": [
      "--------------------------------------------------\n",
      "----------------- TRIAL 0 -----------------------\n",
      "--------------------------------------------------\n",
      "\n",
      "testing Zero\n",
      "WARNING (<class 'extravaganza.dynamical_systems.LinearRegression'>): no `Stats` object provided, so a new one will be made.\n",
      "WARNING (<class 'extravaganza.controllers.ConstantController'>): no `Stats` object provided, so a new one will be made.\n"
     ]
    },
    {
     "name": "stderr",
     "output_type": "stream",
     "text": [
      "  0%|▎                                                                             | 20/5000 [00:00<00:25, 196.77it/s, control=0, cost=0.00868]"
     ]
    },
    {
     "name": "stdout",
     "output_type": "stream",
     "text": [
      "reset!\n"
     ]
    },
    {
     "name": "stderr",
     "output_type": "stream",
     "text": [
      " 21%|███████████████▌                                                            | 1026/5000 [00:03<00:12, 315.77it/s, control=0, cost=0.00868]"
     ]
    },
    {
     "name": "stdout",
     "output_type": "stream",
     "text": [
      "reset!\n"
     ]
    },
    {
     "name": "stderr",
     "output_type": "stream",
     "text": [
      " 40%|██████████████████████████████▋                                             | 2019/5000 [00:07<00:10, 272.88it/s, control=0, cost=0.00868]"
     ]
    },
    {
     "name": "stdout",
     "output_type": "stream",
     "text": [
      "reset!\n"
     ]
    },
    {
     "name": "stderr",
     "output_type": "stream",
     "text": [
      " 61%|██████████████████████████████████████████████▍                             | 3053/5000 [00:10<00:06, 293.93it/s, control=0, cost=0.00868]"
     ]
    },
    {
     "name": "stdout",
     "output_type": "stream",
     "text": [
      "reset!\n"
     ]
    },
    {
     "name": "stderr",
     "output_type": "stream",
     "text": [
      " 81%|█████████████████████████████████████████████████████████████▊              | 4066/5000 [00:14<00:03, 305.12it/s, control=0, cost=0.00868]"
     ]
    },
    {
     "name": "stdout",
     "output_type": "stream",
     "text": [
      "reset!\n"
     ]
    },
    {
     "name": "stderr",
     "output_type": "stream",
     "text": [
      "100%|████████████████████████████████████████████████████████████████████████████| 5000/5000 [00:17<00:00, 289.23it/s, control=0, cost=0.00868]\n"
     ]
    },
    {
     "name": "stdout",
     "output_type": "stream",
     "text": [
      "\n",
      "testing No Lift\n",
      "WARNING (<class 'extravaganza.dynamical_systems.LinearRegression'>): no `Stats` object provided, so a new one will be made.\n",
      "WARNING (<class 'extravaganza.controllers.LiftedBPC'>): no `Stats` object provided, so a new one will be made.\n",
      "registering running average of costs\n"
     ]
    },
    {
     "name": "stderr",
     "output_type": "stream",
     "text": [
      "\r",
      "  0%|                                                                                                                 | 0/5000 [00:00<?, ?it/s]"
     ]
    },
    {
     "name": "stdout",
     "output_type": "stream",
     "text": [
      "reset!\n"
     ]
    },
    {
     "name": "stderr",
     "output_type": "stream",
     "text": [
      " 21%|██████████████▋                                                        | 1032/5000 [00:06<00:22, 176.74it/s, control=-.0794, cost=0.00868]"
     ]
    },
    {
     "name": "stdout",
     "output_type": "stream",
     "text": [
      "reset!\n"
     ]
    },
    {
     "name": "stderr",
     "output_type": "stream",
     "text": [
      " 41%|█████████████████████████████▏                                          | 2026/5000 [00:12<00:18, 162.90it/s, control=-.0882, cost=0.0087]"
     ]
    },
    {
     "name": "stdout",
     "output_type": "stream",
     "text": [
      "reset!\n"
     ]
    },
    {
     "name": "stderr",
     "output_type": "stream",
     "text": [
      " 60%|███████████████████████████████████████████                             | 2991/5000 [00:17<00:12, 163.28it/s, control=0.093, cost=0.00868]"
     ]
    },
    {
     "name": "stdout",
     "output_type": "stream",
     "text": [
      "WARNING (<class 'extravaganza.controllers.LiftedBPC'>): note that we are only updating lifter during sysid phase\n",
      "LOG (<class 'extravaganza.controllers.LiftedBPC'>): copying the K from <extravaganza.sysid.SysID object at 0x17cfa5b40>\n",
      "constraining operator norm of `A` to be <= 1.0\n"
     ]
    },
    {
     "name": "stderr",
     "output_type": "stream",
     "text": [
      "\r",
      " 60%|███████████████████████████████████████████                             | 2991/5000 [00:32<00:12, 163.28it/s, control=0.093, cost=0.00868]"
     ]
    },
    {
     "name": "stdout",
     "output_type": "stream",
     "text": [
      "solving DARE with unconstrained Q\n",
      "||A||_op = 0.7419983148574829     ||B||_F 41.54936218261719         ||A-BK||_op = 0.9087311625480652\n"
     ]
    },
    {
     "name": "stderr",
     "output_type": "stream",
     "text": [
      " 60%|█████████████████████████████████████████████▋                              | 3006/5000 [00:45<14:52,  2.23it/s, control=-5, cost=1.23e+4]"
     ]
    },
    {
     "name": "stdout",
     "output_type": "stream",
     "text": [
      "reset!\n"
     ]
    },
    {
     "name": "stderr",
     "output_type": "stream",
     "text": [
      " 69%|███████████████████████████████████████████████████▌                       | 3435/5000 [00:52<00:24, 65.02it/s, control=-5, cost=2.05e+20]\n"
     ]
    },
    {
     "name": "stdout",
     "output_type": "stream",
     "text": [
      "WARNING: state None or cost 2.0501331963399687e+20 diverged\n",
      "\n",
      "testing Random Lift\n",
      "WARNING (<class 'extravaganza.dynamical_systems.LinearRegression'>): no `Stats` object provided, so a new one will be made.\n",
      "WARNING (<class 'extravaganza.controllers.LiftedBPC'>): no `Stats` object provided, so a new one will be made.\n",
      "registering running average of costs\n"
     ]
    },
    {
     "name": "stderr",
     "output_type": "stream",
     "text": [
      "  0%|                                                                                   | 0/5000 [00:00<?, ?it/s, control=0.0604, cost=1.48e+3]"
     ]
    },
    {
     "name": "stdout",
     "output_type": "stream",
     "text": [
      "reset!\n"
     ]
    },
    {
     "name": "stderr",
     "output_type": "stream",
     "text": [
      " 20%|██████████████▎                                                       | 1023/5000 [00:09<00:34, 115.90it/s, control=0.00133, cost=0.00796]"
     ]
    },
    {
     "name": "stdout",
     "output_type": "stream",
     "text": [
      "reset!\n"
     ]
    },
    {
     "name": "stderr",
     "output_type": "stream",
     "text": [
      " 41%|█████████████████████████████▏                                          | 2026/5000 [00:19<00:22, 130.21it/s, control=0.144, cost=0.00796]"
     ]
    },
    {
     "name": "stdout",
     "output_type": "stream",
     "text": [
      "reset!\n"
     ]
    },
    {
     "name": "stderr",
     "output_type": "stream",
     "text": [
      " 60%|██████████████████████████████████████████▌                            | 2997/5000 [00:26<00:17, 112.34it/s, control=0.0485, cost=0.00795]"
     ]
    },
    {
     "name": "stdout",
     "output_type": "stream",
     "text": [
      "WARNING (<class 'extravaganza.controllers.LiftedBPC'>): note that we are only updating lifter during sysid phase\n",
      "LOG (<class 'extravaganza.controllers.LiftedBPC'>): copying the K from <extravaganza.sysid.SysID object at 0x17d8a5600>\n",
      "constraining operator norm of `A` to be <= 1.0\n"
     ]
    },
    {
     "name": "stderr",
     "output_type": "stream",
     "text": [
      "\r",
      " 60%|██████████████████████████████████████████▌                            | 2997/5000 [00:41<00:17, 112.34it/s, control=0.0485, cost=0.00795]"
     ]
    },
    {
     "name": "stdout",
     "output_type": "stream",
     "text": [
      "solving DARE with unconstrained Q\n",
      "||A||_op = 0.9995150566101074     ||B||_F 0.05223510414361954         ||A-BK||_op = 0.9987049102783203\n"
     ]
    },
    {
     "name": "stderr",
     "output_type": "stream",
     "text": [
      " 60%|██████████████████████████████████████████▋                            | 3008/5000 [08:19<5:35:53, 10.12s/it, control=4.51, cost=4.62e+13]"
     ]
    },
    {
     "name": "stdout",
     "output_type": "stream",
     "text": [
      "reset!\n"
     ]
    },
    {
     "name": "stderr",
     "output_type": "stream",
     "text": [
      " 60%|████████████████████████████████████████████▊                             | 3024/5000 [08:19<05:26,  6.05it/s, control=nan, cost=1.97e+20]\n"
     ]
    },
    {
     "name": "stdout",
     "output_type": "stream",
     "text": [
      "WARNING: state None or cost 1.9694967727774813e+20 diverged\n",
      "\n",
      "testing Learned Lift\n",
      "WARNING (<class 'extravaganza.dynamical_systems.LinearRegression'>): no `Stats` object provided, so a new one will be made.\n",
      "WARNING (<class 'extravaganza.controllers.LiftedBPC'>): no `Stats` object provided, so a new one will be made.\n",
      "registering running average of costs\n"
     ]
    },
    {
     "name": "stderr",
     "output_type": "stream",
     "text": [
      "  0%|                                                                              | 7/5000 [00:00<01:22, 60.52it/s, control=0.0113, cost=2.72]"
     ]
    },
    {
     "name": "stdout",
     "output_type": "stream",
     "text": [
      "reset!\n"
     ]
    },
    {
     "name": "stderr",
     "output_type": "stream",
     "text": [
      " 20%|██████████████▉                                                           | 1009/5000 [00:06<00:22, 179.35it/s, control=-.1, cost=0.00877]"
     ]
    },
    {
     "name": "stdout",
     "output_type": "stream",
     "text": [
      "reset!\n"
     ]
    },
    {
     "name": "stderr",
     "output_type": "stream",
     "text": [
      " 40%|█████████████████████████████▏                                          | 2023/5000 [00:12<00:18, 158.14it/s, control=-.123, cost=0.00877]"
     ]
    },
    {
     "name": "stdout",
     "output_type": "stream",
     "text": [
      "reset!\n"
     ]
    },
    {
     "name": "stderr",
     "output_type": "stream",
     "text": [
      " 60%|███████████████████████████████████████████                             | 2993/5000 [00:17<00:12, 158.56it/s, control=-.138, cost=0.00877]"
     ]
    },
    {
     "name": "stdout",
     "output_type": "stream",
     "text": [
      "WARNING (<class 'extravaganza.controllers.LiftedBPC'>): note that we are only updating lifter during sysid phase\n",
      "LOG (<class 'extravaganza.controllers.LiftedBPC'>): copying the K from <extravaganza.lifters.LearnedLift object at 0x17cfa77f0>\n",
      "LOG (<class 'extravaganza.lifters.LearnedLift'>): training!\n",
      "LOG (<class 'extravaganza.lifters.LearnedLift'>): \tmean loss for past 25 epochs was 0.06687111303210258\n",
      "LOG (<class 'extravaganza.lifters.LearnedLift'>): \tmean loss for past 25 epochs was 0.0036950016766786574\n",
      "LOG (<class 'extravaganza.lifters.LearnedLift'>): \tmean loss for past 25 epochs was 0.0031365855410695077\n",
      "LOG (<class 'extravaganza.lifters.LearnedLift'>): \tmean loss for past 25 epochs was 0.0023316861595958473\n"
     ]
    },
    {
     "name": "stderr",
     "output_type": "stream",
     "text": [
      " 60%|██████████████████████████████████████████████▏                              | 2999/5000 [00:30<08:20,  4.00it/s, control=5, cost=0.00877]"
     ]
    },
    {
     "name": "stdout",
     "output_type": "stream",
     "text": [
      "LOG (<class 'extravaganza.lifters.LearnedLift'>): \tmean loss for past 25 epochs was 0.0019351036101579666\n",
      "LOG (<class 'extravaganza.lifters.LearnedLift'>): ||A||_op = 1.0011781454086304     ||B||_F 0.46091774106025696\n",
      "solving DARE with unconstrained Q\n",
      "||A||_op = 1.0011781454086304     ||B||_F 0.46091774106025696         ||A-BK||_op = 0.997793972492218\n",
      "reset!\n"
     ]
    },
    {
     "name": "stderr",
     "output_type": "stream",
     "text": [
      " 60%|█████████████████████████████████████████████▎                             | 3020/5000 [00:30<00:20, 97.54it/s, control=nan, cost=5.6e+20]\n",
      "No artists with labels found to put in legend.  Note that artists whose label start with an underscore are ignored when legend() is called with no argument.\n",
      "No artists with labels found to put in legend.  Note that artists whose label start with an underscore are ignored when legend() is called with no argument.\n",
      "No artists with labels found to put in legend.  Note that artists whose label start with an underscore are ignored when legend() is called with no argument.\n",
      "No artists with labels found to put in legend.  Note that artists whose label start with an underscore are ignored when legend() is called with no argument.\n",
      "No artists with labels found to put in legend.  Note that artists whose label start with an underscore are ignored when legend() is called with no argument.\n",
      "No artists with labels found to put in legend.  Note that artists whose label start with an underscore are ignored when legend() is called with no argument.\n"
     ]
    },
    {
     "name": "stdout",
     "output_type": "stream",
     "text": [
      "WARNING: state None or cost 5.602880445665593e+20 diverged\n",
      "\n",
      "WARNING: failed to aggregate only 1 stat\n",
      "WARNING: failed to aggregate only 1 stat\n",
      "WARNING: failed to aggregate only 1 stat\n",
      "WARNING: failed to aggregate only 1 stat\n",
      "WARNING: No Lift had no stats\n",
      "WARNING: Random Lift had no stats\n",
      "WARNING: Learned Lift had no stats\n"
     ]
    },
    {
     "data": {
      "text/plain": [
       "<Figure size 640x480 with 0 Axes>"
      ]
     },
     "metadata": {},
     "output_type": "display_data"
    },
    {
     "data": {
      "image/png": "[encoded data removed]",
      "text/plain": [
       "<Figure size 1600x2400 with 12 Axes>"
      ]
     },
     "metadata": {},
     "output_type": "display_data"
    }
   ],
   "source": [
    "experiment_args = {\n",
    "    'make_system': make_system,\n",
    "    'make_controllers': make_controllers,\n",
    "    'num_trials': num_trials,\n",
    "    'T': T,\n",
    "    'reset_every': reset_every,\n",
    "    'reset_seed': SYSTEM_SEED,\n",
    "    'wordy': wordy,\n",
    "    \n",
    "}\n",
    "stats = run_experiment(**experiment_args)\n",
    "plot_nn(stats)"
   ]
  },
  {
   "cell_type": "code",
   "execution_count": null,
   "id": "cfed1cd0",
   "metadata": {},
   "outputs": [],
   "source": []
  }
 ],
 "metadata": {
  "kernelspec": {
   "display_name": "extravaganza",
   "language": "python",
   "name": "extravaganza"
  },
  "language_info": {
   "codemirror_mode": {
    "name": "ipython",
    "version": 3
   },
   "file_extension": ".py",
   "mimetype": "text/x-python",
   "name": "python",
   "nbconvert_exporter": "python",
   "pygments_lexer": "ipython3",
   "version": "3.10.8"
  }
 },
 "nbformat": 4,
 "nbformat_minor": 5
}
