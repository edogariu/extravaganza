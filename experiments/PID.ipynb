{
 "cells": [
  {
   "cell_type": "markdown",
   "id": "123e9381",
   "metadata": {},
   "source": [
    "# PID"
   ]
  },
  {
   "cell_type": "code",
   "execution_count": 1,
   "id": "5c326bb8",
   "metadata": {},
   "outputs": [],
   "source": [
    "import logging\n",
    "logging.basicConfig(format='%(levelname)s: %(message)s', level=logging.INFO)  # set level to INFO for wordy\n",
    "import matplotlib.pyplot as plt\n",
    "from IPython.display import HTML\n",
    "\n",
    "import numpy as np\n",
    "import jax.numpy as jnp\n",
    "\n",
    "from extravaganza.dynamical_systems import PIDGym\n",
    "\n",
    "from extravaganza.lifters import NoLift, RandomLift, LearnedLift\n",
    "from extravaganza.sysid import SysID\n",
    "from extravaganza.controllers import LiftedBPC, ConstantController\n",
    "from extravaganza.rescalers import ADAM, D_ADAM, DoWG\n",
    "from extravaganza.utils import ylim, render\n",
    "from extravaganza.experiments import Experiment\n",
    "\n",
    "# seeds for randomness. setting to `None` uses random seeds\n",
    "SYSTEM_SEED = None\n",
    "CONTROLLER_SEED = None\n",
    "LIFTER_AND_SYSID_SEED = None"
   ]
  },
  {
   "cell_type": "markdown",
   "id": "a332078a",
   "metadata": {},
   "source": [
    "## System\n",
    "\n",
    "describe here"
   ]
  },
  {
   "cell_type": "markdown",
   "id": "97f9e69a",
   "metadata": {},
   "source": [
    "## Hyperparameters"
   ]
  },
  {
   "cell_type": "code",
   "execution_count": 4,
   "id": "b8f9c7d9",
   "metadata": {},
   "outputs": [],
   "source": [
    "name = 'pid_both'\n",
    "filename = '../logs/{}.pkl'.format(name)\n",
    "\n",
    "def get_experiment_args():\n",
    "    # --------------------------------------------------------------------------------------\n",
    "    # ------------------------    EXPERIMENT HYPERPARAMETERS    ----------------------------\n",
    "    # --------------------------------------------------------------------------------------\n",
    "\n",
    "    num_trials = 1\n",
    "    T = 20000\n",
    "    T0 = 10000\n",
    "    reset_condition = lambda t: t == T0\n",
    "    use_multiprocessing = False\n",
    "    render_every = None\n",
    "\n",
    "    # --------------------------------------------------------------------------------------\n",
    "    # --------------------------    SYSTEM HYPERPARAMETERS    ------------------------------\n",
    "    # --------------------------------------------------------------------------------------\n",
    "\n",
    "    du = 2  # control dim\n",
    "    initial_Kp = 0.1  # initial value for Kp\n",
    "    initial_Kd = 0.  # initial value for Kp\n",
    "    def apply_control(control, system): \n",
    "        system.pid.Kp = system.pid.Kp.at[0].set(control[0].item())     \n",
    "        system.pid.Kd = system.pid.Kd.at[0].set(control[1].item())        \n",
    "        \n",
    "    env_name = 'CartPole-v1'  \n",
    "    # env_name = 'MountainCarContinuous-v0'\n",
    "\n",
    "    system_args = {\n",
    "        'env_name': env_name,\n",
    "        'apply_control': apply_control,\n",
    "        'control_dim': du,  # because CartPole\n",
    "        'repeat': 10,\n",
    "        'gym_repeat': 1,\n",
    "        'max_episode_len': 300,\n",
    "        'seed': SYSTEM_SEED,\n",
    "        'Kp': initial_Kp,\n",
    "        'Ki': 0.01,\n",
    "        'Kd': initial_Kd\n",
    "    }\n",
    "    make_system = lambda : PIDGym(**system_args)\n",
    "\n",
    "    # --------------------------------------------------------------------------------------\n",
    "    # ------------------------    LIFT/SYSID HYPERPARAMETERS    ----------------------------\n",
    "    # --------------------------------------------------------------------------------------\n",
    "\n",
    "    sysid_method = 'regression'\n",
    "    sysid_scale = 1.\n",
    "\n",
    "    learned_lift_args = {\n",
    "        'lift_lr': 0.01,\n",
    "        'sysid_lr': 0.01,\n",
    "        'cost_lr': 0.001,\n",
    "        'depth': 6,\n",
    "        'buffer_maxlen': int(1e6),\n",
    "        'num_epochs': 100,\n",
    "        'batch_size': 64,\n",
    "        'seed': LIFTER_AND_SYSID_SEED\n",
    "    }\n",
    "\n",
    "    # --------------------------------------------------------------------------------------\n",
    "    # ------------------------    CONTROLLER HYPERPARAMETERS    ----------------------------\n",
    "    # --------------------------------------------------------------------------------------\n",
    "\n",
    "    h = 20  # controller memory length (# of w's to use on inference)\n",
    "    hh = 20  # history length of the cost/control histories\n",
    "    lift_dim = 40  # dimension to lift to\n",
    "\n",
    "    m_update_rescaler = lambda : ADAM(0.003, betas=(0.9, 0.99))\n",
    "    m0_update_rescaler = lambda : ADAM(0.003, betas=(0.9, 0.99))\n",
    "    k_update_rescaler = lambda : ADAM(0.003, betas=(0.9, 0.99))\n",
    "\n",
    "    lifted_bpc_args = {\n",
    "        'h': h,\n",
    "        'method': 'REINFORCE',\n",
    "        'initial_scales': (0.01, 0.1, 0.01),  # M, M0, K   (uses M0's scale for REINFORCE)\n",
    "        'rescalers': (m_update_rescaler, m0_update_rescaler, k_update_rescaler),\n",
    "        'T0': T0,\n",
    "        'bounds': ([0, 0], [1, 1]),\n",
    "        'initial_u': jnp.array([initial_Kp, initial_Kd]),\n",
    "        'decay_scales': False,\n",
    "        'use_tanh': False,\n",
    "        'use_K_from_sysid': False,\n",
    "        'seed': CONTROLLER_SEED\n",
    "    }\n",
    "\n",
    "    make_controllers = {\n",
    "#         '0.0': lambda sys: ConstantController(0.0, du),\n",
    "#         '0.1': lambda sys: ConstantController(0.1, du),\n",
    "#         '0.4': lambda sys: ConstantController(0.4, du),\n",
    "#         '0.7': lambda sys: ConstantController(0.7, du),\n",
    "#         '1.0': lambda sys: ConstantController(1.0, du),\n",
    "\n",
    "#         'No Lift': lambda sys: LiftedBPC(lifter=NoLift(hh, du, LIFTER_AND_SYSID_SEED), sysid=SysID(sysid_method, du, hh, sysid_scale, LIFTER_AND_SYSID_SEED), **lifted_bpc_args),\n",
    "    #     'Random Lift': lambda sys: LiftedBPC(lifter=RandomLift(hh, du, lift_dim, learned_lift_args['depth'], LIFTER_AND_SYSID_SEED), sysid=SysID(sysid_method, du, lift_dim, sysid_scale, LIFTER_AND_SYSID_SEED), **lifted_bpc_args),\n",
    "        'Learned Lift': lambda sys: LiftedBPC(lifter=LearnedLift(hh, du, lift_dim, scale=sysid_scale, **learned_lift_args), **lifted_bpc_args)\n",
    "    }\n",
    "    experiment_args = {\n",
    "        'make_system': make_system,\n",
    "        'make_controllers': make_controllers,\n",
    "        'num_trials': num_trials,\n",
    "        'T': T,\n",
    "        'reset_condition': reset_condition,\n",
    "        'reset_seed': SYSTEM_SEED,\n",
    "        'use_multiprocessing': use_multiprocessing,\n",
    "        'render_every': render_every,\n",
    "    }\n",
    "    return experiment_args"
   ]
  },
  {
   "cell_type": "markdown",
   "id": "fe7b1eac",
   "metadata": {},
   "source": [
    "## actually run the thing :)"
   ]
  },
  {
   "cell_type": "code",
   "execution_count": 5,
   "id": "0048e58b",
   "metadata": {},
   "outputs": [
    {
     "name": "stderr",
     "output_type": "stream",
     "text": [
      "INFO: (EXPERIMENT) --------------------------------------------------\n",
      "INFO: (EXPERIMENT) ----------------- TRIAL 0 -----------------------\n",
      "INFO: (EXPERIMENT) --------------------------------------------------\n",
      "\n",
      "INFO: (EXPERIMENT): testing Learned Lift\n",
      "WARNING: (LIFTER): note that right now we are NOT LEARNING B!!\n",
      " 50%|████████████████████████████▍                            | 9998/20000 [06:08<13:06, 12.71it/s, control=[0.4832611  0.20772418], cost=-22]INFO: (LIFTEDBPC) Note that we are only updating lifter during sysid phase\n",
      "INFO: (LEARNEDLIFT): training!\n",
      "INFO: (LEARNEDLIFT) \tmean loss for past 25 epochs was 0.01956543408334255\n",
      " 50%|████████████████████████████▍                            | 9998/20000 [06:19<13:06, 12.71it/s, control=[0.4832611  0.20772418], cost=-22]INFO: (LEARNEDLIFT) \tmean loss for past 25 epochs was 0.0034595388825982808\n",
      "INFO: (LEARNEDLIFT) \tmean loss for past 25 epochs was 0.0026573001500219107\n",
      "INFO: (LEARNEDLIFT) \tmean loss for past 25 epochs was 0.002890933221206069\n",
      "INFO: (LEARNEDLIFT) \tmean loss for past 25 epochs was 0.002498202370479703\n",
      "INFO: (LEARNEDLIFT) ||A||_op = 1.0372378826141357     ||B||_F 1.0000001192092896\n",
      " 50%|██████████████████████████▌                          | 10000/20000 [07:00<20:29:30,  7.38s/it, control=[0.06850147 0.03278917], cost=-20]INFO: (EXPERIMENT): reset!\n",
      "100%|██████████████████████████████████████████████████████| 20000/20000 [4:30:18<00:00,  1.23it/s, control=[0.08786014 0.06376871], cost=-10]\n",
      "INFO: \n",
      "ERROR: (STATS) failed to aggregate only 1 stat\n",
      "INFO: (EXPERIMENT) done! The entire experiment took 2326.9450703340117 seconds\n"
     ]
    }
   ],
   "source": [
    "# run\n",
    "experiment = Experiment(name)\n",
    "stats = experiment(get_experiment_args)"
   ]
  },
  {
   "cell_type": "code",
   "execution_count": null,
   "id": "50520008",
   "metadata": {},
   "outputs": [],
   "source": [
    "# save args and stats!  --  note that to save the args, we actually save the `get_args` function. we can print the \n",
    "#                           source code later to see the hyperparameters we chose\n",
    "experiment.save(filename)"
   ]
  },
  {
   "cell_type": "markdown",
   "id": "c54fdb9c",
   "metadata": {},
   "source": [
    "## Visualization\n",
    "We keep track of the useful information through `Stats` objects, which can `register()` a variable to keep track of (which it does via calls to `update()`) and which can be aggregated via `Stats.aggregate()` for mean and variance statistics. \n",
    "\n",
    "We define below a plotting arrangement that plots all the desired quantities from both the system and controller."
   ]
  },
  {
   "cell_type": "code",
   "execution_count": null,
   "id": "a4d2ca85",
   "metadata": {},
   "outputs": [],
   "source": [
    "def plot_pid(experiment: Experiment):\n",
    "    assert experiment.stats is not None, 'cannot plot the results of an experiment that hasnt been run'\n",
    "    all_stats = experiment.stats\n",
    "    \n",
    "    # clear plot and calc nrows\n",
    "    plt.clf()\n",
    "    n = 5\n",
    "    nrows = n + (len(all_stats) + 1) // 2\n",
    "    fig, ax = plt.subplots(nrows, 2, figsize=(16, 6 * nrows))\n",
    "\n",
    "    # plot system stats\n",
    "    for i, (method, stats) in enumerate(all_stats.items()):\n",
    "        if stats is None: \n",
    "            print('WARNING: {} had no stats'.format(method))\n",
    "            continue\n",
    "        stats.plot(ax[0, 0], 'P', label=method)\n",
    "#         stats.plot(ax[0, 1], 'ws', label=method)\n",
    "        stats.plot(ax[1, 0], 'us', label=method)\n",
    "        stats.plot(ax[1, 1], 'Kp', label=method + ' Kp')\n",
    "        stats.plot(ax[1, 1], 'Kd', label=method + ' Kd')\n",
    "\n",
    "        stats.plot(ax[2, 0], 'rewards', label=method)\n",
    "        stats.plot(ax[2, 1], 'avg rewards since reset', label=method)\n",
    "\n",
    "        stats.plot(ax[3, 0], '||A||_op', label=method)\n",
    "        stats.plot(ax[3, 1], '||B||_F', label=method)\n",
    "        stats.plot(ax[4, 0], '||A-BK||_op', label=method)\n",
    "        stats.plot(ax[4, 1], 'cost diffs', label=method)\n",
    "        i_ax = ax[n + i // 2, i % 2]\n",
    "        stats.plot(ax[0, 1], 'disturbances', label=method)\n",
    "        stats.plot(i_ax, 'K @ state', label='K @ state')\n",
    "        stats.plot(i_ax, 'M \\cdot w', label='M \\cdot w')\n",
    "        stats.plot(i_ax, 'M0', label='M0')\n",
    "        i_ax.set_title('u decomp for {}'.format(method))\n",
    "        i_ax.legend()\n",
    "\n",
    "    # set titles and legends and limits and such\n",
    "    # (note: `ylim()` is so useful! because sometimes one thing blows up and then autoscale messes up all plots)\n",
    "    _ax = ax[0, 0]; _ax.set_title('error'); _ax.legend()\n",
    "    _ax = ax[0, 1]; _ax.set_title('disturbances'); _ax.legend()\n",
    "    _ax = ax[1, 0]; _ax.set_title('controls'); _ax.legend()\n",
    "    _ax = ax[1, 1]; _ax.set_title('state'); _ax.legend()\n",
    "    \n",
    "    _ax = ax[2, 0]; _ax.set_title('instantaneous rewards'); _ax.legend()\n",
    "    _ax = ax[2, 1]; _ax.set_title('avg rewards since last reset'); _ax.legend()\n",
    "    \n",
    "    _ax = ax[3, 0]; _ax.set_title('||A||_op'); _ax.legend()\n",
    "    _ax = ax[3, 1]; _ax.set_title('||B||_F'); _ax.legend()\n",
    "    \n",
    "    _ax = ax[4, 0]; _ax.set_title('||A-BK||_op'); _ax.legend()\n",
    "    _ax = ax[4, 1]; _ax.set_title('cost diffs'); _ax.legend()\n",
    "    pass"
   ]
  },
  {
   "cell_type": "markdown",
   "id": "ac81252e",
   "metadata": {},
   "source": [
    "### Plot"
   ]
  },
  {
   "cell_type": "code",
   "execution_count": null,
   "id": "08e9c70a",
   "metadata": {},
   "outputs": [],
   "source": [
    "plot_pid(experiment)\n",
    "# # plot\n",
    "# from copy import deepcopy\n",
    "# e = deepcopy(experiment)\n",
    "# e.stats = {k: s[4100:] for k, s in e.stats.items() if k not in ['No Lift', 'RBPC']}\n",
    "# plot_pid(e)"
   ]
  },
  {
   "cell_type": "markdown",
   "id": "d6a69b9c",
   "metadata": {},
   "source": [
    "### Dynamic Plot"
   ]
  },
  {
   "cell_type": "code",
   "execution_count": null,
   "id": "79971477",
   "metadata": {},
   "outputs": [],
   "source": [
    "# dynamic plot\n",
    "anim = render(experiment, 'Kp', 'rewards', sliderkey='us', save_path=None, duration=5)\n",
    "vid = anim.to_html5_video()\n",
    "HTML(vid)"
   ]
  }
 ],
 "metadata": {
  "kernelspec": {
   "display_name": "extravaganza",
   "language": "python",
   "name": "extravaganza"
  },
  "language_info": {
   "codemirror_mode": {
    "name": "ipython",
    "version": 3
   },
   "file_extension": ".py",
   "mimetype": "text/x-python",
   "name": "python",
   "nbconvert_exporter": "python",
   "pygments_lexer": "ipython3",
   "version": "3.10.8"
  }
 },
 "nbformat": 4,
 "nbformat_minor": 5
}
