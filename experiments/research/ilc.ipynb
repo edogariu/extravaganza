{
 "cells": [
  {
   "cell_type": "markdown",
   "id": "8abf8a49",
   "metadata": {},
   "source": [
    "# ILC and Control-Aware Learning\n",
    "\n",
    "The goal of this is to figure out how to learn a lifter and sysid *in tandem* with the controller, in an on-policy way.\n",
    "\n",
    "\n",
    "## References\n",
    "Here are some references so that I don't need to keep tabs open all the time:\n",
    "- **\"A Regret Minimization Approach to Iterative Learning Control\"**, Naman 2021\n",
    "    - https://arxiv.org/pdf/2102.13478.pdf\n",
    "    - havent read yet\n",
    "- **\"Control-Aware Representations for Model-based Reinforcement Learning\"** (CARL), Cui 2020\n",
    "    - https://arxiv.org/pdf/2006.13408.pdf"
   ]
  }
 ],
 "metadata": {
  "kernelspec": {
   "display_name": "extravaganza",
   "language": "python",
   "name": "extravaganza"
  },
  "language_info": {
   "codemirror_mode": {
    "name": "ipython",
    "version": 3
   },
   "file_extension": ".py",
   "mimetype": "text/x-python",
   "name": "python",
   "nbconvert_exporter": "python",
   "pygments_lexer": "ipython3",
   "version": "3.10.8"
  }
 },
 "nbformat": 4,
 "nbformat_minor": 5
}
