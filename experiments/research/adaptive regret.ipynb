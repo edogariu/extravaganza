{
 "cells": [
  {
   "cell_type": "markdown",
   "id": "65acfdff",
   "metadata": {},
   "source": [
    "# Adaptive Regret\n",
    "\n",
    "The goal of this is to test how to use multiple copies of our algorithm underneath a layer of learning from experts.\n",
    "\n",
    "\n",
    "## References\n",
    "Here are some references so that I don't need to keep tabs open all the time:\n",
    "- **\"Adaptive Gradient Methods with Local Guarantees\"** (SAMUEL), Hazan & Sanjeev 2023\n",
    "    - https://arxiv.org/pdf/2203.01400.pdf\n",
    "    - the way that multiplicative weights was done here is unique and worth looking at\n",
    "    - havent finished yet"
   ]
  }
 ],
 "metadata": {
  "kernelspec": {
   "display_name": "extravaganza",
   "language": "python",
   "name": "extravaganza"
  },
  "language_info": {
   "codemirror_mode": {
    "name": "ipython",
    "version": 3
   },
   "file_extension": ".py",
   "mimetype": "text/x-python",
   "name": "python",
   "nbconvert_exporter": "python",
   "pygments_lexer": "ipython3",
   "version": "3.10.8"
  }
 },
 "nbformat": 4,
 "nbformat_minor": 5
}
