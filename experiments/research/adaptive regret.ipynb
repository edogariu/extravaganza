{
 "cells": [
  {
   "cell_type": "markdown",
   "id": "65acfdff",
   "metadata": {},
   "source": [
    "# Adaptive Regret\n",
    "\n",
    "The goal of this is to test how to use multiple copies of our algorithm underneath a layer of learning from experts.\n",
    "\n",
    "\n",
    "## References\n",
    "Here are some references so that I don't need to keep tabs open all the time:\n",
    "- **\"Adaptive Gradient Methods with Local Guarantees\"** (SAMUEL), Hazan & Sanjeev 2023\n",
    "    - https://arxiv.org/pdf/2203.01400.pdf\n",
    "    - the way that multiplicative weights was done here is unique and worth looking at\n",
    "    - havent finished yet\n",
    "- **\"On the Computational Efficiency of Adaptive and Dynamic Regret Minimization\"**, Lu & Hazan 2023\n",
    "    - https://arxiv.org/pdf/2207.00646.pdf\n",
    "    - better FTH with $\\log \\log (T)$ experts"
   ]
  },
  {
   "cell_type": "code",
   "execution_count": 55,
   "id": "6c9db3a5",
   "metadata": {},
   "outputs": [
    {
     "name": "stderr",
     "output_type": "stream",
     "text": [
      "100%|████████████████████████████████████████████████████████████████████████████████████████████████████████| 5000/5000 [00:00<00:00, 187006.95it/s]"
     ]
    },
    {
     "name": "stdout",
     "output_type": "stream",
     "text": [
      "13 16.643856189774723\n"
     ]
    },
    {
     "name": "stderr",
     "output_type": "stream",
     "text": [
      "\n"
     ]
    },
    {
     "data": {
      "text/plain": [
       "<matplotlib.collections.PathCollection at 0x28aa10f40>"
      ]
     },
     "execution_count": 55,
     "metadata": {},
     "output_type": "execute_result"
    },
    {
     "data": {
      "image/png": "[encoded data removed]",
      "text/plain": [
       "<Figure size 640x480 with 1 Axes>"
      ]
     },
     "metadata": {},
     "output_type": "display_data"
    }
   ],
   "source": [
    "import numpy as np\n",
    "import matplotlib.pyplot as plt\n",
    "import tqdm\n",
    "\n",
    "spawn_every = 64\n",
    "life_lower_bound = 100\n",
    "T0 = 6000\n",
    "T = 5000\n",
    "\n",
    "def generate_death_times(n, min_lifetime, first_lifetime=None):\n",
    "    def lifetime(i):\n",
    "        l = 4\n",
    "        while i % 2 == 0:\n",
    "            l *= 2\n",
    "            i /= 2\n",
    "        return max(l + 1, min_lifetime)\n",
    "\n",
    "    tod = np.arange(n)\n",
    "    for i in range(1, n):\n",
    "        tod[i] = i + lifetime(i)\n",
    "    if first_lifetime is None: first_lifetime = min_lifetime\n",
    "    tod[0] = first_lifetime  # lifetime not defined for 0\n",
    "    return tod\n",
    "tod = generate_death_times(T, min_lifetime=life_lower_bound, first_lifetime=T0)\n",
    "\n",
    "experts = {}\n",
    "for i in tqdm.trange(T):\n",
    "    if i % spawn_every == 0:\n",
    "        experts[i] = True\n",
    "    kill_idx = np.where(tod == i)[0]\n",
    "    if len(kill_idx) and kill_idx[0] in experts:\n",
    "        del experts[kill_idx[0]]\n",
    "\n",
    "print(len(experts), 2 * np.log2(N))\n",
    "plt.scatter(experts.keys(), [0 for _ in range(len(experts))])"
   ]
  },
  {
   "cell_type": "code",
   "execution_count": null,
   "id": "2b1c3030",
   "metadata": {},
   "outputs": [],
   "source": [
    "from typing import Callable\n",
    "\n",
    "import numpy as np\n",
    "\n",
    "from extravaganza.explorer import Explorer\n",
    "from extravaganza.controllers import Controller\n",
    "from extravaganza.system_models import Dataset\n",
    "from extravaganza.stats import Stats\n",
    "\n",
    "\n",
    "class HardFTH(Controller):\n",
    "    def __init__(self,\n",
    "                 control_dim: int, obs_dim: int,\n",
    "                 explorer: Explorer,  # for an initial exploration before spawining the first expert\n",
    "                 make_controller: Callable[[Dataset], Controller],  # to make controllers\n",
    "                 \n",
    "                 eta: float,\n",
    "                 T0: int,\n",
    "                 spawn_every: int,\n",
    "                 dataset_window: int,\n",
    "                 min_lifetime: int,\n",
    "                 ):\n",
    "        super().__init__()\n",
    "        assert control_dim == explorer.control_dim\n",
    "        self.control_dim = control_dim\n",
    "        self.state_dim = obs_dim\n",
    "        self.make_controller = make_controller\n",
    "        \n",
    "        self.t = 0\n",
    "        self.min_lifetime = min_lifetime\n",
    "        self.tod = generate_death_times(10 * max(min_lifetime, T0), min_lifetime, first_lifetime=T0)\n",
    "        self.spawn_every = spawn_every\n",
    "        self.dataset_window = dataset_window\n",
    "        \n",
    "        self.dataset = Dataset(self.control_dim, self.state_dim)\n",
    "        self.experts = {0: explorer}  # list of active experts\n",
    "        self.eta = eta\n",
    "        self.probs = {0: 1.}\n",
    "        self.prev_selected_expert = 0  # idx of expert that we selected last\n",
    "        \n",
    "        self.stats = Stats()\n",
    "        self.stats.register('states', obj_class=np.ndarray, shape=(self.state_dim,))\n",
    "        self.stats.register('disturbances', obj_class=np.ndarray, shape=(self.state_dim,))\n",
    "        self.stats.register('-K @ state', obj_class=np.ndarray, shape=(self.control_dim,))\n",
    "        self.stats.register('M \\cdot w', obj_class=np.ndarray, shape=(self.control_dim,))\n",
    "        self.stats.register('M0', obj_class=np.ndarray, shape=(self.control_dim,))\n",
    "        pass\n",
    "        \n",
    "    def system_reset_hook(self):\n",
    "        self.dataset.reset()\n",
    "        for e in self.experts.values(): e.system_reset_hook()\n",
    "        pass\n",
    "    \n",
    "    def update(self, state: np.ndarray, cost: float, control: np.ndarray, next_state: np.ndarray, next_cost: float):\n",
    "        self.dataset.add_transition(state, cost, control, next_state, next_cost)\n",
    "        ret = self.experts[self.prev_selected_expert].update(state, cost, control, next_state, next_cost)\n",
    "        \n",
    "        # decay prob\n",
    "        self.probs[self.prev_selected_expert] *= np.exp(-self.eta * next_cost)\n",
    "        \n",
    "        # renormalize, and spawn a new expert if necessary\n",
    "        if self.t % self.spawn_every == 0:\n",
    "            v = (1 - 1 / self.t) / sum(self.probs.values())\n",
    "            for k in self.probs.keys(): self.probs[k] *= v\n",
    "            self.probs[self.t] = 1 / self.t\n",
    "            self.experts[self.t] = make_controller(dataset.get_tail(self.dataset_window))\n",
    "        else:\n",
    "            v = 1 / sum(self.probs.values())\n",
    "            for k in self.probs.keys(): self.probs[k] *= v\n",
    "        assert np.allclose(sum(self.probs.values()), 1.)\n",
    "        \n",
    "        # kill whoever we have to\n",
    "        kill_idx = np.where(self.tod == self.t)[0]\n",
    "        if len(kill_idx) and kill_idx[0] in self.experts:\n",
    "            del self.experts[kill_idx[0]]\n",
    "            del self.probs[kill_idx[0]]\n",
    "        \n",
    "        return ret\n",
    "    \n",
    "    def get_control(self, cost: float, obs: np.ndarray) -> np.ndarray:\n",
    "        assert obs.shape == (self.obs_dim,), (obs.shape, self.obs_dim)\n",
    "        self.t += 1\n",
    "        for e in self.experts.values(): e.t = self.t\n",
    "        if self.t >= len(self.tod): self.tod = generate_death_times(2 * self.t, self.min_lifetime)\n",
    "        self.prev_selected_expert = np.random.choice(list(self.probs.keys()), p=list(self.probs.values()))\n",
    "        expert = self.experts[self.prev_selected_expert]\n",
    "        control = expert.get_control(cost, obs)\n",
    "        \n",
    "        # collect the most recent stats from the selected expert\n",
    "        if expert.stats is not None:\n",
    "            s = expert.stats._stats\n",
    "            keys = ['states', '-K @ state', 'M0', 'M \\cdot w']\n",
    "            for k in keys:\n",
    "                if k in s: self.stats.update(k, s[k].values[-1], t=self.t)\n",
    "        \n",
    "        return control"
   ]
  },
  {
   "cell_type": "code",
   "execution_count": null,
   "id": "be9cb426",
   "metadata": {},
   "outputs": [],
   "source": [
    "from collections import namedtuple\n",
    "from typing import Callable, Tuple\n",
    "\n",
    "from extravaganza.controllers import Controller\n",
    "from extravaganza.sysid import SystemModel\n",
    "\n",
    "Expert = namedtuple('Expert', ['controller',\n",
    "                               'start_idx',\n",
    "                               'stop_idx'])\n",
    "\n",
    "class Dataset:\n",
    ",,,,,,,,,,,,,,,,,,,,,,,,\n",
    "\n",
    "class FTHRegression:\n",
    "    def __init__(T: int,\n",
    "                 make_controller: Callable[[Tuple[np.ndarray, np.ndarray]], Controller],  # makes a controller from a linear system model\n",
    "                 control_dim: int,\n",
    "                 obs_dim: int,\n",
    "                 epsilon: float):\n",
    "        \n",
    "        self.T = T\n",
    "        self.make_controller = make_controller\n",
    "        self.control_dim, self.obs_dim = control_dim, obs_dim\n",
    "        self.epsilon = epsilon\n",
    "        \n",
    "        self.sysid = sysid\n",
    "        self.dataset = \n",
    "        \n",
    "        \n",
    "    "
   ]
  }
 ],
 "metadata": {
  "kernelspec": {
   "display_name": "extravaganza",
   "language": "python",
   "name": "extravaganza"
  },
  "language_info": {
   "codemirror_mode": {
    "name": "ipython",
    "version": 3
   },
   "file_extension": ".py",
   "mimetype": "text/x-python",
   "name": "python",
   "nbconvert_exporter": "python",
   "pygments_lexer": "ipython3",
   "version": "3.10.8"
  }
 },
 "nbformat": 4,
 "nbformat_minor": 5
}
