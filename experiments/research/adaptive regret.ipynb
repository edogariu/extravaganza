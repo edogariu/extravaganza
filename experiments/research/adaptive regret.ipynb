{
 "cells": [
  {
   "cell_type": "markdown",
   "id": "65acfdff",
   "metadata": {},
   "source": [
    "# Adaptive Regret\n",
    "\n",
    "The goal of this is to test how to use multiple copies of our algorithm underneath a layer of learning from experts.\n",
    "\n",
    "\n",
    "## References\n",
    "Here are some references so that I don't need to keep tabs open all the time:\n",
    "- **\"Adaptive Gradient Methods with Local Guarantees\"** (SAMUEL), Hazan & Sanjeev 2023\n",
    "    - https://arxiv.org/pdf/2203.01400.pdf\n",
    "    - the way that multiplicative weights was done here is unique and worth looking at\n",
    "    - havent finished yet\n",
    "- **\"On the Computational Efficiency of Adaptive and Dynamic Regret Minimization\"**, Lu & Hazan 2023\n",
    "    - https://arxiv.org/pdf/2207.00646.pdf\n",
    "    - better FTH with $\\log \\log (T)$ experts"
   ]
  },
  {
   "cell_type": "code",
   "execution_count": null,
   "id": "be9cb426",
   "metadata": {},
   "outputs": [],
   "source": [
    "from collections import namedtuple\n",
    "from typing import Callable\n",
    "\n",
    "from extravaganza.controllers import Controller\n",
    "from extravaganza.sysid import SystemModel\n",
    "\n",
    "Expert = namedtuple('Expert', ['controller',\n",
    "                               'start_idx',\n",
    "                               'stop_idx'])\n",
    "\n",
    "class FTH:\n",
    "    def __init__(T: int,\n",
    "                 make_controller: Callable[[SystemModel], Controller],  # makes a controller from a system model\n",
    "                 sysid: SystemModel,\n",
    "                 control_dim: int,\n",
    "                 obs_dim: int,\n",
    "                 epsilon: float):\n",
    "        \n",
    "        self.T = T\n",
    "        self.make_controller = make_controller\n",
    "        self.control_dim, self.obs_dim = control_dim, obs_dim\n",
    "        self.epsilon = epsilon\n",
    "        \n",
    "        self.sysid = sysid\n",
    "        self.dataset = \n",
    "        \n",
    "        \n",
    "    "
   ]
  }
 ],
 "metadata": {
  "kernelspec": {
   "display_name": "extravaganza",
   "language": "python",
   "name": "extravaganza"
  },
  "language_info": {
   "codemirror_mode": {
    "name": "ipython",
    "version": 3
   },
   "file_extension": ".py",
   "mimetype": "text/x-python",
   "name": "python",
   "nbconvert_exporter": "python",
   "pygments_lexer": "ipython3",
   "version": "3.10.8"
  }
 },
 "nbformat": 4,
 "nbformat_minor": 5
}
