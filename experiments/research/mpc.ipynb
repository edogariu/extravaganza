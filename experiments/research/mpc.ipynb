{
 "cells": [
  {
   "cell_type": "markdown",
   "id": "65acfdff",
   "metadata": {},
   "source": [
    "# MPC\n",
    "\n",
    "The goal of this is to test how well we can make use of a learned lifter in a way other than through BPC-learned disturbance control.\n",
    "\n",
    "\n",
    "## References\n",
    "Here are some references so that I don't need to keep tabs open all the time:\n",
    "- **do-mpc**\n",
    "    - https://www.do-mpc.com/en/latest/theory_mpc.html\n",
    "    - library/toolbox for MPC!!!\n",
    "- **deluca**\n",
    "    - https://sites.google.com/view/nsc-tutorial\n",
    "    - has some related implementations"
   ]
  }
 ],
 "metadata": {
  "kernelspec": {
   "display_name": "extravaganza",
   "language": "python",
   "name": "extravaganza"
  },
  "language_info": {
   "codemirror_mode": {
    "name": "ipython",
    "version": 3
   },
   "file_extension": ".py",
   "mimetype": "text/x-python",
   "name": "python",
   "nbconvert_exporter": "python",
   "pygments_lexer": "ipython3",
   "version": "3.10.8"
  }
 },
 "nbformat": 4,
 "nbformat_minor": 5
}
