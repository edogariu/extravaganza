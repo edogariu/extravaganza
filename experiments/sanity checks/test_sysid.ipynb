{
 "cells": [
  {
   "cell_type": "markdown",
   "id": "edc53342",
   "metadata": {},
   "source": [
    "# Testing Regression-based SysID\n",
    "The goal here is to verify that we are able to estimate linear system dynamics from measurements"
   ]
  },
  {
   "cell_type": "code",
   "execution_count": 1,
   "id": "d8cf2a7a",
   "metadata": {},
   "outputs": [],
   "source": [
    "import tqdm\n",
    "\n",
    "import numpy as np\n",
    "import jax.numpy as jnp\n",
    "\n",
    "from extravaganza.dynamical_systems import LDS\n",
    "from extravaganza.sysid import Lifter\n",
    "\n",
    "# seeds for randomness. setting to `None` uses random seeds\n",
    "SYSTEM_SEED = None\n",
    "SYSID_SEED = None"
   ]
  },
  {
   "cell_type": "code",
   "execution_count": 2,
   "id": "9efefc76",
   "metadata": {},
   "outputs": [
    {
     "name": "stderr",
     "output_type": "stream",
     "text": [
      "100%|████████████████████████████████████████████████████████████████████████████████████████████████████████████████| 50/50 [00:19<00:00,  2.58it/s]"
     ]
    },
    {
     "name": "stdout",
     "output_type": "stream",
     "text": [
      "woohoo!\n"
     ]
    },
    {
     "name": "stderr",
     "output_type": "stream",
     "text": [
      "\n"
     ]
    }
   ],
   "source": [
    "num_trials = 50\n",
    "for _ in tqdm.trange(num_trials):\n",
    "    # make system\n",
    "    du = 20  # control dim\n",
    "    ds = 30  # state dim\n",
    "    system = LDS(ds, du, 'none', 'quad', seed=None)\n",
    "    A, B = system.A, system.B\n",
    "\n",
    "    # make sysid\n",
    "    T0 = 200\n",
    "    sysid = Lifter(obs_dim=ds, control_dim=du, state_dim=ds, max_traj_len=int(1e6), exploration_scale=0.5, method='identity', seed=SYSID_SEED)\n",
    "\n",
    "    # interaction loop\n",
    "    control = jnp.zeros(du)\n",
    "    for _ in range(T0):\n",
    "        cost, obs = system.interact(control)\n",
    "        control = sysid.explore(cost, obs)\n",
    "    Ahat, Bhat = sysid.end_exploration(wordy=False)\n",
    "\n",
    "    atol = 1e-6\n",
    "    assert jnp.allclose(A, Ahat, atol=atol), jnp.linalg.norm(A - Ahat)\n",
    "    assert jnp.allclose(B, Bhat, atol=atol), jnp.linalg.norm(B - Bhat)\n",
    "print('woohoo!')"
   ]
  }
 ],
 "metadata": {
  "kernelspec": {
   "display_name": "extravaganza",
   "language": "python",
   "name": "extravaganza"
  },
  "language_info": {
   "codemirror_mode": {
    "name": "ipython",
    "version": 3
   },
   "file_extension": ".py",
   "mimetype": "text/x-python",
   "name": "python",
   "nbconvert_exporter": "python",
   "pygments_lexer": "ipython3",
   "version": "3.10.8"
  }
 },
 "nbformat": 4,
 "nbformat_minor": 5
}
