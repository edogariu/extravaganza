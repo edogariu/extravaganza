{
 "cells": [
  {
   "cell_type": "markdown",
   "id": "e9af082c",
   "metadata": {},
   "source": [
    "# Test Linear Lifting via Synthetic LDS\n",
    "The goal here is to verify that we are able to learn linearizing maps. As such, we play around below in the situation where there is an underlying LDS with some nonlinear observations. We are interested in checking whether we are able to reproduce the underlying LDS."
   ]
  },
  {
   "cell_type": "code",
   "execution_count": 1,
   "id": "de5d5faf",
   "metadata": {},
   "outputs": [
    {
     "name": "stderr",
     "output_type": "stream",
     "text": [
      "INFO: Created a temporary directory at /var/folders/5m/0xr906c130vdqvkm3g21n6wr0000gn/T/tmpfpk2v1m1\n",
      "INFO: Writing /var/folders/5m/0xr906c130vdqvkm3g21n6wr0000gn/T/tmpfpk2v1m1/_remote_module_non_scriptable.py\n"
     ]
    }
   ],
   "source": [
    "import logging\n",
    "logging.basicConfig(format='%(levelname)s: %(message)s', level=logging.INFO)  # set level to INFO for wordy\n",
    "import matplotlib.pyplot as plt\n",
    "import tqdm\n",
    "\n",
    "import numpy as np\n",
    "import jax.numpy as jnp\n",
    "\n",
    "from extravaganza.dynamical_systems import LDS, Gym\n",
    "from extravaganza.sysid import Lifter\n",
    "from extravaganza.utils import summarize_lds, sample, jkey, opnorm\n",
    "\n",
    "# seeds for randomness. setting to `None` uses random seeds\n",
    "SYSTEM_SEED = None\n",
    "SYSID_SEED = None"
   ]
  },
  {
   "cell_type": "code",
   "execution_count": 39,
   "id": "f08070a9",
   "metadata": {
    "scrolled": true
   },
   "outputs": [
    {
     "name": "stderr",
     "output_type": "stream",
     "text": [
      "INFO: (LDS) for the LDS we are !!!NOT!!! reporting the costs with the `u.T @ R @ u` part\n",
      "INFO: (LDS): initial state is [-1.898508   -1.0064001   2.0777147  -0.43123963 -1.4051675  -0.9905854\n",
      " -0.31232417 -0.17178749  0.33622125  0.3031092  -1.0623996  -1.5532845\n",
      "  0.63023114 -0.744705   -0.00429837 -0.10062545]\n",
      "INFO: (PC3): decoder not provided, so reconstruction error will NOT be computed\n",
      "INFO: (PC3): contrastive predictive coding will NOT be computed\n",
      "INFO: (PC3): jacobian loss will NOT be computed\n",
      "INFO: (PC3): using \"learned\" method to get the AB matrices during each training step\n"
     ]
    },
    {
     "name": "stdout",
     "output_type": "stream",
     "text": [
      "||A||_op = 0.9305210709571838\n",
      "||B||_F = 7.885181903839111\n",
      "||A-BK||_op = 0.6604080200195312\n"
     ]
    },
    {
     "name": "stderr",
     "output_type": "stream",
     "text": [
      "100%|█████████████████████████████████████████████████████████████████████████████████████████████████████████| 10000/10000 [00:10<00:00, 945.45it/s]\n",
      "INFO: (LIFTER): ending sysid phase at step 10000\n",
      "INFO: training!\n",
      "INFO: mean loss for epochs -600 - 0:\n",
      "INFO: \t\tl2 linearization: 0.6170406937599182\n",
      "INFO: \t\tsimplification: 0.0869951918721199\n",
      "INFO: mean loss for epochs 0 - 600:\n",
      "INFO: \t\tl2 linearization: 0.34167826975385346\n",
      "INFO: \t\tsimplification: 0.01284198758813242\n",
      "INFO: mean loss for epochs 600 - 1200:\n",
      "INFO: \t\tl2 linearization: 0.1902100167175134\n",
      "INFO: \t\tsimplification: 0.008972313201908643\n",
      "INFO: mean loss for epochs 1200 - 1800:\n",
      "INFO: \t\tl2 linearization: 0.08952507302785913\n",
      "INFO: \t\tsimplification: 0.0059099401273609445\n",
      "INFO: mean loss for epochs 1800 - 2400:\n",
      "INFO: \t\tl2 linearization: 0.040975602719311915\n",
      "INFO: \t\tsimplification: 0.0034581280945955467\n",
      "INFO: mean loss for epochs 2400 - 3000:\n",
      "INFO: \t\tl2 linearization: 0.018155103439154725\n",
      "INFO: \t\tsimplification: 0.001988543940630431\n",
      "INFO: mean loss for epochs 3000 - 3600:\n",
      "INFO: \t\tl2 linearization: 0.00781901008915156\n",
      "INFO: \t\tsimplification: 0.0011629410339325356\n",
      "INFO: mean loss for epochs 3600 - 4200:\n",
      "INFO: \t\tl2 linearization: 0.0041598377889022235\n",
      "INFO: \t\tsimplification: 0.0007345432741567492\n",
      "INFO: mean loss for epochs 4200 - 4800:\n",
      "INFO: \t\tl2 linearization: 0.002469336341600865\n",
      "INFO: \t\tsimplification: 0.0004938160336071935\n",
      "INFO: mean loss for epochs 4800 - 5400:\n",
      "INFO: \t\tl2 linearization: 0.0018539157973524803\n",
      "INFO: \t\tsimplification: 0.0003540904093339729\n",
      "INFO: mean loss for epochs 5399 - 5999:\n",
      "INFO: \t\tl2 linearization: 0.0016252218084021781\n",
      "INFO: \t\tsimplification: 0.00026898121997267783\n"
     ]
    },
    {
     "name": "stdout",
     "output_type": "stream",
     "text": [
      "tensor(45.0275)\n",
      "||A||_op = 2.862597703933716\n",
      "||B||_F = 13.663047790527344\n",
      "||A-BK||_op = 0.9568167328834534\n"
     ]
    }
   ],
   "source": [
    "def obs_func(x):\n",
    "    return jnp.sign(x) * (jnp.abs(x) ** 0.5)   # looks sorta sigmoidal\n",
    "#     return x\n",
    "\n",
    "# make g.t. linear system\n",
    "du = 6  # control dim\n",
    "ds = 16  # state dim\n",
    "system = LDS(ds, du, 'none', 'quad', seed=SYSTEM_SEED)\n",
    "A, B = system.A, system.B\n",
    "print(summarize_lds(A, B))\n",
    "\n",
    "# make sysid\n",
    "T0 = 10000\n",
    "reset_every = 50\n",
    "dl = 16\n",
    "\n",
    "sysid_args = {\n",
    "    'obs_dim': ds,\n",
    "    'control_dim': du,\n",
    "\n",
    "    'max_traj_len': int(1e6),\n",
    "    'exploration_scales': 1.,\n",
    "\n",
    "    'AB_method': 'learned',\n",
    "    \n",
    "    'sigma': 0.,\n",
    "    'determinstic_encoder': True,\n",
    "    'depth': 6,\n",
    "    'num_epochs': 6000,\n",
    "    'lifter_lr': 0.0004,\n",
    "\n",
    "    'seed': SYSID_SEED,\n",
    "}\n",
    "sysid = Lifter(method='nn', state_dim=dl, **sysid_args)\n",
    "\n",
    "# interaction loop\n",
    "states = []\n",
    "control = jnp.zeros(du)\n",
    "for t in tqdm.trange(T0):\n",
    "    if t % reset_every == 0: \n",
    "        system.reset()\n",
    "        system.state = sample(jkey(), (ds,), sampling_method='sphere')\n",
    "        sysid.end_trajectory()\n",
    "    cost, state = system.interact(control)\n",
    "    states.append(state)\n",
    "    obs = obs_func(state)\n",
    "    control = sysid.explore(cost, obs)\n",
    "Ahat, Bhat = sysid.end_exploration(wordy=True)"
   ]
  },
  {
   "cell_type": "code",
   "execution_count": null,
   "id": "38015528",
   "metadata": {},
   "outputs": [],
   "source": [
    "from extravaganza.utils import summarize_lds; import torch\n",
    "print(summarize_lds(sysid.lifter.A.detach().data.numpy(), sysid.lifter.B.detach().data.numpy()))\n",
    "print()\n",
    "print(summarize_lds(Ahat, Bhat))"
   ]
  },
  {
   "cell_type": "code",
   "execution_count": 36,
   "id": "ae0c8275",
   "metadata": {},
   "outputs": [
    {
     "name": "stdout",
     "output_type": "stream",
     "text": [
      "3.7701344 4.6723504 0.90427345\n",
      "original: [-0.40065452  0.16128615 -0.38660365 -0.1906097  -0.0339026  -0.43510616\n",
      " -0.9707034   0.06679669  0.2731599   0.3561817   1.0116923   0.30082297\n",
      " -0.47164476 -0.04406445 -0.11864424 -0.55146813]\n",
      "gt: [-1.4104177  -0.98610014 -0.65124583  0.74938446 -0.01615215  0.84727496\n",
      " -1.4927555  -1.2476437  -1.5455992   0.13033676  0.22925034  0.4452033\n",
      " -0.82051516 -1.0104893   1.3549812  -0.30681986]\n",
      "pred: [-1.6408315  -1.2839931  -0.72355884  0.9633069  -0.01569783  1.177322\n",
      " -1.5810227  -1.5668228  -1.9904276   0.05202991  0.05400772  0.49921256\n",
      " -0.89438766 -1.2283422   1.6894679  -0.24468721]\n"
     ]
    }
   ],
   "source": [
    "# check how well we do at prediction\n",
    "x = sample(jkey(), (ds,), sampling_method='ball')\n",
    "# x = states[np.random.randint(len(states))]\n",
    "s = sysid.get_state(obs_func(x))\n",
    "original = s.copy()\n",
    "for _ in range(1):\n",
    "    u = sample(jkey(), (du,), sampling_method='normal')\n",
    "    x = A @ x + B @ u\n",
    "    s = Ahat @ s + Bhat @ u \n",
    "gt = sysid.get_state(obs_func(x))\n",
    "pred = s.copy()\n",
    "print(jnp.linalg.norm(gt - original), jnp.linalg.norm(pred - original), jnp.linalg.norm(gt - pred))\n",
    "print('original:', original)\n",
    "print('gt:', gt)\n",
    "print('pred:', pred)"
   ]
  },
  {
   "cell_type": "code",
   "execution_count": 38,
   "id": "80e68270",
   "metadata": {},
   "outputs": [
    {
     "name": "stdout",
     "output_type": "stream",
     "text": [
      "||A - C @ Ahat @ C.T||^2 / ||A||^2: \t2006464593920.00%\n",
      "||B - C @ Bhat||^2 / ||B||^2: \t\t65.73%\n",
      "Avg % Err (residual norm ** 2 / state norm ** 2): \t63.62%\n"
     ]
    },
    {
     "data": {
      "text/plain": [
       "<matplotlib.collections.PathCollection at 0x2bca6a500>"
      ]
     },
     "execution_count": 38,
     "metadata": {},
     "output_type": "execute_result"
    },
    {
     "data": {
      "image/png": "[encoded data removed]",
      "text/plain": [
       "<Figure size 640x480 with 1 Axes>"
      ]
     },
     "metadata": {},
     "output_type": "display_data"
    }
   ],
   "source": [
    "# We know that if we have succeeded, our embedding composed with our observation function is a linear transformation of the original state.\n",
    "# Below, we regress this transformation, C, and compute some errors with it.\n",
    "\n",
    "rand_states = sample(jkey(), (10000, ds), sampling_method='sphere')\n",
    "# rand_states = jnp.stack(states, axis=0)\n",
    "\n",
    "emb = jnp.stack([sysid.get_state(obs_func(r)) for r in rand_states], axis=0)\n",
    "\n",
    "C = jnp.linalg.lstsq(emb, rand_states, rcond=-1)[0].T\n",
    "\n",
    "print('||A - C @ Ahat @ C.T||^2 / ||A||^2: \\t{:.2f}%'.format(100 * jnp.linalg.norm(A - C @ Ahat @ C.T) ** 2 / jnp.linalg.norm(A) ** 2))\n",
    "print('||B - C @ Bhat||^2 / ||B||^2: \\t\\t{:.2f}%'.format(100 * jnp.linalg.norm(B - C @ Bhat) ** 2 / jnp.linalg.norm(B) ** 2))\n",
    "\n",
    "residuals = (C[None] @ emb[:, :, None]).squeeze() - rand_states\n",
    "residual_norms = jnp.linalg.norm(residuals, axis=-1) ** 2\n",
    "state_norms = jnp.linalg.norm(rand_states, axis=-1) ** 2\n",
    "\n",
    "print('Avg % Err (residual norm ** 2 / state norm ** 2): \\t{:.2f}%'.format(100 * jnp.mean(residual_norms / state_norms)))\n",
    "plt.scatter(state_norms, residual_norms / state_norms)"
   ]
  },
  {
   "cell_type": "markdown",
   "id": "5fef0675",
   "metadata": {},
   "source": [
    "## Test on Pendulum\n",
    "So, we see that we can recreate a synthetic LDS. However, I am not convinced until I see that we are able to reproduce harder systems, such as the pendulum. "
   ]
  },
  {
   "cell_type": "code",
   "execution_count": null,
   "id": "09115ddb",
   "metadata": {
    "scrolled": true
   },
   "outputs": [],
   "source": [
    "# make pendulum\n",
    "system = Gym('Pendulum-v1', repeat=2, render=False, seed=SYSTEM_SEED)\n",
    "ds = system.state_dim\n",
    "du = system.control_dim\n",
    "\n",
    "# make sysid\n",
    "T0 = 5000\n",
    "reset_every = 200\n",
    "dl = 4\n",
    "\n",
    "sysid_args = {\n",
    "    'obs_dim': ds,\n",
    "    'control_dim': du,\n",
    "\n",
    "    'max_traj_len': int(1e6),\n",
    "    'exploration_scales': 4.,\n",
    "\n",
    "    'sigma': 0.,\n",
    "    'determinstic_encoder': True,\n",
    "    'depth': 3,\n",
    "    'num_epochs': 5000,\n",
    "    'lifter_lr': 0.001,\n",
    "\n",
    "    'seed': SYSID_SEED,\n",
    "}\n",
    "sysid = Lifter(method='nn', state_dim=dl, **sysid_args)\n",
    "\n",
    "# interaction loop\n",
    "control = jnp.zeros(du)\n",
    "for t in tqdm.trange(T0):\n",
    "    if t % reset_every == 0: \n",
    "        system.reset()\n",
    "        system.state = sample(jkey(), (ds,), sampling_method='ball')\n",
    "    cost, state = system.interact(control)\n",
    "    control = sysid.explore(cost, state)\n",
    "Ahat, Bhat = sysid.end_exploration(wordy=True)"
   ]
  },
  {
   "cell_type": "code",
   "execution_count": null,
   "id": "c88c4421",
   "metadata": {},
   "outputs": [],
   "source": [
    "# check how well we do at prediction\n",
    "system.reset()\n",
    "x = system.state.astype(np.float32)\n",
    "s = sysid.get_state(x)\n",
    "original = s.copy()\n",
    "for _ in range(1):\n",
    "    u = sample(jkey(), (du,), sampling_method='normal')\n",
    "    f, x = system.interact(u)\n",
    "    s = Ahat @ s + Bhat @ u\n",
    "gt = sysid.get_state(x)\n",
    "pred = s.copy()\n",
    "print(jnp.linalg.norm(gt - original), jnp.linalg.norm(pred - original), jnp.linalg.norm(gt - pred))\n",
    "print('x:', x)\n",
    "print('cost:', f)\n",
    "print('original:', original)\n",
    "print('gt:', gt)\n",
    "print('pred:', pred)"
   ]
  }
 ],
 "metadata": {
  "kernelspec": {
   "display_name": "extravaganza",
   "language": "python",
   "name": "extravaganza"
  },
  "language_info": {
   "codemirror_mode": {
    "name": "ipython",
    "version": 3
   },
   "file_extension": ".py",
   "mimetype": "text/x-python",
   "name": "python",
   "nbconvert_exporter": "python",
   "pygments_lexer": "ipython3",
   "version": "3.10.8"
  }
 },
 "nbformat": 4,
 "nbformat_minor": 5
}
