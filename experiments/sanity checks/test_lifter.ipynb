{
 "cells": [
  {
   "cell_type": "markdown",
   "id": "e9af082c",
   "metadata": {},
   "source": [
    "# Test Linear Lifting\n",
    "The goal here is to verify that we are able to learn linearizing maps. As such, we play around below in the situation where there is an underlying LDS with some nonlinear observations. We are interested in checking whether we are able to reproduce the underlying LDS."
   ]
  },
  {
   "cell_type": "code",
   "execution_count": 1,
   "id": "de5d5faf",
   "metadata": {},
   "outputs": [
    {
     "name": "stderr",
     "output_type": "stream",
     "text": [
      "INFO: Created a temporary directory at /var/folders/5m/0xr906c130vdqvkm3g21n6wr0000gn/T/tmpxy2bppjk\n",
      "INFO: Writing /var/folders/5m/0xr906c130vdqvkm3g21n6wr0000gn/T/tmpxy2bppjk/_remote_module_non_scriptable.py\n"
     ]
    }
   ],
   "source": [
    "import logging\n",
    "logging.basicConfig(format='%(levelname)s: %(message)s', level=logging.INFO)  # set level to INFO for wordy\n",
    "import matplotlib.pyplot as plt\n",
    "import tqdm\n",
    "\n",
    "import numpy as np\n",
    "import jax.numpy as jnp\n",
    "\n",
    "from extravaganza.dynamical_systems import LDS\n",
    "from extravaganza.sysid import Lifter\n",
    "from extravaganza.utils import summarize_lds, sample, jkey\n",
    "\n",
    "# seeds for randomness. setting to `None` uses random seeds\n",
    "SYSTEM_SEED = None\n",
    "SYSID_SEED = None"
   ]
  },
  {
   "cell_type": "code",
   "execution_count": 2,
   "id": "f08070a9",
   "metadata": {
    "scrolled": true
   },
   "outputs": [
    {
     "name": "stderr",
     "output_type": "stream",
     "text": [
      "INFO: Unable to initialize backend 'cuda': module 'jaxlib.xla_extension' has no attribute 'GpuAllocatorConfig'\n",
      "INFO: Unable to initialize backend 'rocm': module 'jaxlib.xla_extension' has no attribute 'GpuAllocatorConfig'\n",
      "INFO: Unable to initialize backend 'tpu': module 'jaxlib.xla_extension' has no attribute 'get_tpu_client'\n",
      "INFO: Unable to initialize backend 'plugin': xla_extension has no attributes named get_plugin_device_client. Compile TensorFlow with //tensorflow/compiler/xla/python:enable_plugin_device set to true (defaults to false) to enable this.\n",
      "INFO: (LDS) for the LDS we are !!!NOT!!! reporting the costs with the `u.T @ R @ u` part\n",
      "INFO: (LDS): initial state is [-0.25565735 -0.41134962  0.74716395 -2.1830933 ]\n"
     ]
    },
    {
     "name": "stdout",
     "output_type": "stream",
     "text": [
      "||A||_op = 0.9246821999549866\n",
      "||B||_F = 1.165912389755249\n",
      "||A-BK||_op = 0.5761350393295288\n"
     ]
    },
    {
     "name": "stderr",
     "output_type": "stream",
     "text": [
      "100%|████████████████████████████████████████████████████████████████████████████████████████████████████████| 20000/20000 [00:05<00:00, 3900.61it/s]\n",
      "INFO: (LIFTER): ending sysid phase at step 20000\n",
      "INFO: training!\n",
      "INFO: mean loss for epochs -25 - 0 was {'linearization': 0.0056873940226908485, 'cpc': 0.9984652912005398, 'consistency': 0.0, 'simplification': 28.752586083534446, 'residual centeredness': 3.822501718075681e-05, 'centeredness': 3.432709209811993}\n",
      "INFO: mean loss for epochs 0 - 25 was {'linearization': 0.8658411916574607, 'cpc': 0.9435732091084504, 'consistency': 0.0, 'simplification': 4.890975143542656, 'residual centeredness': 0.013126419045690388, 'centeredness': 1.990940450139535}\n",
      "INFO: mean loss for epochs 25 - 50 was {'linearization': 1.3808970970068222, 'cpc': 0.9679163798613425, 'consistency': 0.0, 'simplification': 1.638705971837044, 'residual centeredness': 0.01800610780495052, 'centeredness': 0.8654202251709424}\n",
      "INFO: mean loss for epochs 50 - 75 was {'linearization': 1.619176319012275, 'cpc': 0.9960099745102419, 'consistency': 0.0, 'simplification': 1.1822646266374834, 'residual centeredness': 0.012418286333105733, 'centeredness': 0.4585144656247053}\n",
      "INFO: mean loss for epochs 75 - 100 was {'linearization': 1.5466772720752617, 'cpc': 0.9813237049946417, 'consistency': 0.0, 'simplification': 0.9596129744022321, 'residual centeredness': 0.013764435350876271, 'centeredness': 0.36184273421764374}\n",
      "INFO: mean loss for epochs 100 - 125 was {'linearization': 1.4654030623497107, 'cpc': 0.9620777029868884, 'consistency': 0.0, 'simplification': 0.9743233023698514, 'residual centeredness': 0.02216556030095746, 'centeredness': 0.29145161173473566}\n",
      "INFO: mean loss for epochs 125 - 150 was {'linearization': 1.021197898189227, 'cpc': 0.8882004466423621, 'consistency': 0.0, 'simplification': 1.213145847412256, 'residual centeredness': 0.04843923514581268, 'centeredness': 0.1691663510461624}\n",
      "INFO: mean loss for epochs 150 - 175 was {'linearization': 0.4744357494666026, 'cpc': 0.7234633923493898, 'consistency': 0.0, 'simplification': 0.9068683053285649, 'residual centeredness': 0.016446400788129093, 'centeredness': 0.05042535160862593}\n",
      "INFO: mean loss for epochs 175 - 200 was {'linearization': 0.3743403504139337, 'cpc': 0.6695160059745495, 'consistency': 0.0, 'simplification': 0.6017373093351339, 'residual centeredness': 0.01157658315492415, 'centeredness': 0.04441242491011508}\n",
      "INFO: mean loss for epochs 200 - 225 was {'linearization': 0.3332155381104885, 'cpc': 0.6387067800607437, 'consistency': 0.0, 'simplification': 0.503213681723827, 'residual centeredness': 0.011356154565597907, 'centeredness': 0.045262634462741494}\n",
      "INFO: mean loss for epochs 225 - 250 was {'linearization': 0.20516784933897164, 'cpc': 0.5403609567269301, 'consistency': 0.0, 'simplification': 0.29715272160294726, 'residual centeredness': 0.00499481623084135, 'centeredness': 0.02860288209996771}\n",
      "INFO: mean loss for epochs 250 - 275 was {'linearization': 0.0816148240902485, 'cpc': 0.46763456748082083, 'consistency': 0.0, 'simplification': 0.18484506113406937, 'residual centeredness': 0.00521012680549085, 'centeredness': 0.02336698028580614}\n",
      "INFO: mean loss for epochs 275 - 300 was {'linearization': 0.05274872292310764, 'cpc': 0.4419903522271376, 'consistency': 0.0, 'simplification': 0.16584683913833054, 'residual centeredness': 0.006907998731806471, 'centeredness': 0.02446470220815032}\n",
      "INFO: mean loss for epochs 300 - 325 was {'linearization': 0.03996392331826381, 'cpc': 0.42736865164377763, 'consistency': 0.0, 'simplification': 0.1334280693339996, 'residual centeredness': 0.005575807906734786, 'centeredness': 0.023525195540617765}\n",
      "INFO: mean loss for epochs 325 - 350 was {'linearization': 0.03323704578746588, 'cpc': 0.4187094406592541, 'consistency': 0.0, 'simplification': 0.1131644383091957, 'residual centeredness': 0.00408378840130097, 'centeredness': 0.02178546155437988}\n",
      "INFO: mean loss for epochs 350 - 375 was {'linearization': 0.0296139562359223, 'cpc': 0.41402820550478425, 'consistency': 0.0, 'simplification': 0.09891776822698421, 'residual centeredness': 0.0034793523751772554, 'centeredness': 0.022230166754683846}\n",
      "INFO: mean loss for epochs 375 - 400 was {'linearization': 0.026915303392288013, 'cpc': 0.4106772037805655, 'consistency': 0.0, 'simplification': 0.08980199929231253, 'residual centeredness': 0.0028631020095263716, 'centeredness': 0.02129051486320513}\n",
      "INFO: mean loss for epochs 400 - 425 was {'linearization': 0.025008877191979154, 'cpc': 0.40807854646291486, 'consistency': 0.0, 'simplification': 0.0824731931501092, 'residual centeredness': 0.002416357542703666, 'centeredness': 0.021889332558426896}\n",
      "INFO: mean loss for epochs 425 - 450 was {'linearization': 0.02369079138510502, 'cpc': 0.4059699223133233, 'consistency': 0.0, 'simplification': 0.08091017666344459, 'residual centeredness': 0.002148844112937065, 'centeredness': 0.022102530458971908}\n",
      "INFO: mean loss for epochs 450 - 475 was {'linearization': 0.02235354049370075, 'cpc': 0.40412951087340326, 'consistency': 0.0, 'simplification': 0.07171137251724036, 'residual centeredness': 0.0017974532732130636, 'centeredness': 0.021739516653126487}\n",
      "INFO: mean loss for epochs 474 - 499 was {'linearization': 0.021446103288863715, 'cpc': 0.40272785715567766, 'consistency': 0.0, 'simplification': 0.07232907046205722, 'residual centeredness': 0.0016129606920138682, 'centeredness': 0.02118931965051534}\n"
     ]
    },
    {
     "name": "stdout",
     "output_type": "stream",
     "text": [
      "||A||_op = 0.9232118725776672\n",
      "||B||_F = 1.202485203742981\n",
      "||A-BK||_op = 0.5788575410842896\n"
     ]
    }
   ],
   "source": [
    "def obs_func(x):\n",
    "    return jnp.sign(x) * (jnp.abs(x) ** 0.5)   # looks sorta sigmoidal\n",
    "\n",
    "# make g.t. linear system\n",
    "du = 2  # control dim\n",
    "ds = 4  # state dim\n",
    "system = LDS(ds, du, 'none', 'quad', seed=SYSTEM_SEED)\n",
    "A, B = system.A, system.B\n",
    "print(summarize_lds(A, B))\n",
    "\n",
    "# make sysid\n",
    "T0 = 20000\n",
    "dl = 4\n",
    "\n",
    "sysid_args = {\n",
    "    'obs_dim': ds,\n",
    "    'control_dim': du,\n",
    "\n",
    "    'max_traj_len': int(1e6),\n",
    "    'exploration_scale': 1.,\n",
    "\n",
    "    'sigma': 0.01,\n",
    "    'determinstic_encoder': True,\n",
    "    'depth': 6,\n",
    "    'num_epochs': 500,\n",
    "    'batch_size': 256,\n",
    "    'lifter_lr': 0.004,\n",
    "    'sysid_lr': 0.0015,\n",
    "\n",
    "    'seed': SYSID_SEED,\n",
    "}\n",
    "sysid = Lifter(method='nn', state_dim=dl, **sysid_args)\n",
    "\n",
    "# interaction loop\n",
    "control = jnp.zeros(du)\n",
    "for _ in tqdm.trange(T0):\n",
    "    cost, state = system.interact(control)\n",
    "    obs = obs_func(state)\n",
    "    control = sysid.explore(cost, obs)\n",
    "Ahat, Bhat = sysid.end_exploration(wordy=True)"
   ]
  },
  {
   "cell_type": "code",
   "execution_count": 55,
   "id": "7448bfa2",
   "metadata": {},
   "outputs": [
    {
     "name": "stdout",
     "output_type": "stream",
     "text": [
      "0.0021714128 0.0033128601 0.026838968\n"
     ]
    }
   ],
   "source": [
    "# to see how well we did, we check the following things\n",
    "def Fhat(y): return sysid.get_state(y)\n",
    "g = obs_func\n",
    "\n",
    "# make dataset of x's and u's\n",
    "N = 500\n",
    "xs, us = [], []\n",
    "system.reset()\n",
    "for _ in range(N):\n",
    "    control = sample(jkey(), (du,)) * sysid_args['exploration_scale']\n",
    "    cost, state = system.interact(control)\n",
    "    xs.append(state)\n",
    "    us.append(control)\n",
    "    \n",
    "# this evaluates model's understanding of the effect of control\n",
    "b_loss = np.median([jnp.linalg.norm(Fhat(g(B @ u)) - Bhat @ u) ** 2 / (jnp.linalg.norm(u) ** 2) for u in us])\n",
    "\n",
    "# this evalutes model's understanding of passive dynamics\n",
    "a_loss = np.median([jnp.linalg.norm(Fhat(g(A @ x)) - Ahat @ Fhat(g(x))) ** 2 / (jnp.linalg.norm(x) ** 2) for x in xs])\n",
    "\n",
    "# this evaluates model's understanding of cost\n",
    "norm_loss = np.median([abs(jnp.linalg.norm(x) ** 2 - jnp.linalg.norm(Fhat(g(x))) ** 2) / (jnp.linalg.norm(x) ** 2) for x in xs])\n",
    "\n",
    "print(a_loss, b_loss, norm_loss)"
   ]
  },
  {
   "cell_type": "code",
   "execution_count": 84,
   "id": "ae0c8275",
   "metadata": {},
   "outputs": [
    {
     "name": "stdout",
     "output_type": "stream",
     "text": [
      "1.7192662 1.6934311 0.28317678\n"
     ]
    }
   ],
   "source": [
    "# check how well we do at prediction\n",
    "x = sample(jkey(), (ds,))\n",
    "s = sysid.get_state(obs_func(x))\n",
    "original = s.copy()\n",
    "for _ in range(1):\n",
    "    u = sample(jkey(), (du,))\n",
    "    x = A @ x + B @ u\n",
    "    s = Ahat @ s + Bhat @ u\n",
    "gt = sysid.get_state(obs_func(x))\n",
    "pred = s.copy()\n",
    "print(jnp.linalg.norm(gt - original), jnp.linalg.norm(pred - original), jnp.linalg.norm(gt - pred))"
   ]
  },
  {
   "cell_type": "code",
   "execution_count": 85,
   "id": "854ad906",
   "metadata": {},
   "outputs": [
    {
     "name": "stderr",
     "output_type": "stream",
     "text": [
      "WARNING: (UTILS): no hardcoded color for `linearization`. using a random one :)\n",
      "WARNING: (UTILS): no hardcoded color for `cpc`. using a random one :)\n",
      "WARNING: (UTILS): no hardcoded color for `simplification`. using a random one :)\n",
      "WARNING: (UTILS): no hardcoded color for `consistency`. using a random one :)\n"
     ]
    },
    {
     "data": {
      "image/png": "[encoded data removed]",
      "text/plain": [
       "<Figure size 640x480 with 1 Axes>"
      ]
     },
     "metadata": {},
     "output_type": "display_data"
    }
   ],
   "source": [
    "from extravaganza.utils import ylim\n",
    "fig, ax = plt.subplots(1, 1)\n",
    "for k in ['linearization', \n",
    "          'cpc', \n",
    "          'simplification', \n",
    "          'consistency']:\n",
    "    sysid.stats.plot(ax, k, label=k)\n",
    "ax.legend()\n",
    "ylim(ax, 0, 1)\n",
    "plt.show()"
   ]
  }
 ],
 "metadata": {
  "kernelspec": {
   "display_name": "extravaganza",
   "language": "python",
   "name": "extravaganza"
  },
  "language_info": {
   "codemirror_mode": {
    "name": "ipython",
    "version": 3
   },
   "file_extension": ".py",
   "mimetype": "text/x-python",
   "name": "python",
   "nbconvert_exporter": "python",
   "pygments_lexer": "ipython3",
   "version": "3.10.8"
  }
 },
 "nbformat": 4,
 "nbformat_minor": 5
}
