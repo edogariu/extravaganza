{
 "cells": [
  {
   "cell_type": "markdown",
   "id": "9c85655d",
   "metadata": {},
   "source": [
    "# OpenAI Gym\n"
   ]
  },
  {
   "cell_type": "code",
   "execution_count": 1,
   "id": "29db997e",
   "metadata": {},
   "outputs": [],
   "source": [
    "import logging\n",
    "logging.basicConfig(format='%(levelname)s: %(message)s', level=logging.INFO)  # set level to INFO for wordy\n",
    "import matplotlib.pyplot as plt\n",
    "from IPython.display import HTML\n",
    "\n",
    "import numpy as np\n",
    "import jax.numpy as jnp\n",
    "\n",
    "import gymnasium as gym\n",
    "\n",
    "from extravaganza.dynamical_systems import Gym\n",
    "\n",
    "from extravaganza.lifters import NoLift, RandomLift, LearnedLift\n",
    "from extravaganza.sysid import SysID\n",
    "from extravaganza.controllers import LiftedBPC, ConstantController\n",
    "from extravaganza.rescalers import ADAM, D_ADAM, DoWG\n",
    "from extravaganza.utils import ylim, render\n",
    "from extravaganza.experiments import Experiment\n",
    "\n",
    "# seeds for randomness. setting to `None` uses random seeds\n",
    "SYSTEM_SEED = None\n",
    "CONTROLLER_SEED = None\n",
    "LIFTER_AND_SYSID_SEED = None"
   ]
  },
  {
   "cell_type": "markdown",
   "id": "33f06917",
   "metadata": {},
   "source": [
    "## System\n",
    "Here, we work with games in the OpenAI gym, such as `MountainCarContinuous-v0`, in which we supply a value in `[-1, 1]` as a control to push a car left or right up a mountain. The tricky thing about this environment is that you first have to push the car up the left to gain momentum, even though the goal is on the right.\n",
    "\n",
    "Another good environment is the `CartPole` enviroment (left and right bumps on a cart to keep an inverted pendulum upright), whose continuous analog is also displayed below.\n",
    "\n",
    "We make use of **only the reward signal or cost function** to train, not using any state observation.\n",
    "\n",
    "MountainCar | CartPole\n",
    "- | - \n",
    "![mountaincar.gif](https://www.gymlibrary.dev/_images/mountain_car.gif) | ![cart_pole.gif](https://www.gymlibrary.dev/_images/cart_pole.gif)"
   ]
  },
  {
   "cell_type": "markdown",
   "id": "a0c16dbd",
   "metadata": {},
   "source": [
    "## Hyperparameters"
   ]
  },
  {
   "cell_type": "code",
   "execution_count": 2,
   "id": "2ea3889d",
   "metadata": {},
   "outputs": [
    {
     "name": "stderr",
     "output_type": "stream",
     "text": [
      "INFO: Unable to initialize backend 'cuda': module 'jaxlib.xla_extension' has no attribute 'GpuAllocatorConfig'\n",
      "INFO: Unable to initialize backend 'rocm': module 'jaxlib.xla_extension' has no attribute 'GpuAllocatorConfig'\n",
      "INFO: Unable to initialize backend 'tpu': module 'jaxlib.xla_extension' has no attribute 'get_tpu_client'\n",
      "INFO: Unable to initialize backend 'plugin': xla_extension has no attributes named get_plugin_device_client. Compile TensorFlow with //tensorflow/compiler/xla/python:enable_plugin_device set to true (defaults to false) to enable this.\n",
      "/Users/evandigiorno/Desktop/extravaganza/env/lib/python3.10/site-packages/gymnasium/spaces/box.py:130: UserWarning: \u001b[33mWARN: Box bound precision lowered by casting to float32\u001b[0m\n",
      "  gym.logger.warn(f\"Box bound precision lowered by casting to {self.dtype}\")\n"
     ]
    }
   ],
   "source": [
    "name = 'gym_????'\n",
    "filename = '../logs/{}.pkl'.format(name)\n",
    "\n",
    "def get_experiment_args():\n",
    "    # --------------------------------------------------------------------------------------\n",
    "    # ------------------------    EXPERIMENT HYPERPARAMETERS    ----------------------------\n",
    "    # --------------------------------------------------------------------------------------\n",
    "\n",
    "    num_trials = 1\n",
    "    T = 24000  # total timesteps\n",
    "    T0 = 12000  # number of timesteps to just sysid for our methods\n",
    "    reset_condition = lambda t: t % 1200 == 0  # when to reset the system\n",
    "    use_multiprocessing = False\n",
    "    render_every = None\n",
    "\n",
    "    # --------------------------------------------------------------------------------------\n",
    "    # --------------------------    SYSTEM HYPERPARAMETERS    ------------------------------\n",
    "    # --------------------------------------------------------------------------------------\n",
    "\n",
    "    env_name = 'CartPoleContinuous-v1'  \n",
    "    # env_name = 'MountainCarContinuous-v0'\n",
    "    repeat = 3  # how many times to repeat each action before a new one can be chosen\n",
    "    render_env = False\n",
    "\n",
    "    make_system = lambda : Gym(env_name, repeat, render_env, seed=SYSTEM_SEED)\n",
    "    du = make_system().control_dim\n",
    "\n",
    "    # --------------------------------------------------------------------------------------\n",
    "    # ------------------------    LIFT/SYSID HYPERPARAMETERS    ----------------------------\n",
    "    # --------------------------------------------------------------------------------------\n",
    "\n",
    "    sysid_method = 'regression'\n",
    "    sysid_scale = 0.2\n",
    "\n",
    "    learned_lift_args = {\n",
    "        'lift_lr': 0.01,\n",
    "        'sysid_lr': 0.01,\n",
    "        'cost_lr': 0.001,\n",
    "        'depth': 6,\n",
    "        'buffer_maxlen': int(1e6),\n",
    "        'num_epochs': 75,\n",
    "        'batch_size': 64,\n",
    "        'seed': LIFTER_AND_SYSID_SEED\n",
    "    }\n",
    "\n",
    "    # --------------------------------------------------------------------------------------\n",
    "    # ------------------------    CONTROLLER HYPERPARAMETERS    ----------------------------\n",
    "    # --------------------------------------------------------------------------------------\n",
    "\n",
    "    h = 5  # controller memory length (# of w's to use on inference)\n",
    "    hh = 5  # history length of the cost/control histories\n",
    "    lift_dim = 20  # dimension to lift to\n",
    "\n",
    "    m_update_rescaler = lambda : ADAM(0.003, betas=(0.9, 0.999))\n",
    "    m0_update_rescaler = lambda : ADAM(0.00, betas=(0.9, 0.999))\n",
    "    k_update_rescaler = lambda : ADAM(0.003, betas=(0.9, 0.999))\n",
    "\n",
    "    lifted_bpc_args = {\n",
    "        'h': h,\n",
    "        'method': 'REINFORCE',\n",
    "        'initial_scales': (0.001, 0.01, 0.0),  # M, M0, K   (uses M0's scale for REINFORCE)\n",
    "        'rescalers': (m_update_rescaler, m0_update_rescaler, k_update_rescaler),\n",
    "        'T0': T0,\n",
    "    #     'bounds': (-1, 1),\n",
    "        'initial_u': jnp.zeros(du),\n",
    "        'decay_scales': True,\n",
    "        'use_tanh': False,\n",
    "        'use_K_from_sysid': False,\n",
    "        'seed': CONTROLLER_SEED\n",
    "    }\n",
    "\n",
    "    make_controllers = {\n",
    "        'Zero': lambda sys: ConstantController(0, du),\n",
    "        'No Lift': lambda sys: LiftedBPC(lifter=NoLift(hh, du, LIFTER_AND_SYSID_SEED), sysid=SysID(sysid_method, du, hh, sysid_scale, LIFTER_AND_SYSID_SEED), **lifted_bpc_args),\n",
    "    #     'Random Lift': lambda sys: LiftedBPC(lifter=RandomLift(hh, du, lift_dim, learned_lift_args['depth'], LIFTER_AND_SYSID_SEED), sysid=SysID(sysid_method, du, lift_dim, sysid_scale, LIFTER_AND_SYSID_SEED), **lifted_bpc_args),\n",
    "        'Learned Lift': lambda sys: LiftedBPC(lifter=LearnedLift(hh, du, lift_dim, scale=sysid_scale, **learned_lift_args), **lifted_bpc_args)\n",
    "    }\n",
    "    experiment_args = {\n",
    "        'make_system': make_system,\n",
    "        'make_controllers': make_controllers,\n",
    "        'num_trials': num_trials,\n",
    "        'T': T,\n",
    "        'reset_condition': reset_condition,\n",
    "        'reset_seed': SYSTEM_SEED,\n",
    "        'use_multiprocessing': use_multiprocessing,\n",
    "        'render_every': render_every,\n",
    "    }\n",
    "    return experiment_args"
   ]
  },
  {
   "cell_type": "markdown",
   "id": "87dd3a0d",
   "metadata": {},
   "source": [
    "## actually run the thing :)"
   ]
  },
  {
   "cell_type": "code",
   "execution_count": 3,
   "id": "63b3132a",
   "metadata": {},
   "outputs": [
    {
     "name": "stderr",
     "output_type": "stream",
     "text": [
      "INFO: (EXPERIMENT) --------------------------------------------------\n",
      "INFO: (EXPERIMENT) ----------------- TRIAL 0 -----------------------\n",
      "INFO: (EXPERIMENT) --------------------------------------------------\n",
      "\n",
      "INFO: (EXPERIMENT): testing Zero\n",
      "  0%|                                                                                                               | 0/24000 [00:00<?, ?it/s]INFO: (EXPERIMENT): reset!\n",
      "  5%|███▍                                                                       | 1108/24000 [00:01<00:23, 975.81it/s, control=0, cost=0.0284]INFO: (EXPERIMENT): reset!\n",
      " 10%|███████▏                                                                  | 2323/24000 [00:02<00:24, 883.08it/s, control=0, cost=2.72e-5]INFO: (EXPERIMENT): reset!\n",
      " 12%|████████▉                                                                | 2950/24000 [00:02<00:20, 1020.98it/s, control=0, cost=0.00342]IOPub message rate exceeded.\n",
      "The notebook server will temporarily stop sending output\n",
      "to the client in order to avoid crashing it.\n",
      "To change this limit, set the config variable\n",
      "`--NotebookApp.iopub_msg_rate_limit`.\n",
      "\n",
      "Current values:\n",
      "NotebookApp.iopub_msg_rate_limit=1000.0 (msgs/sec)\n",
      "NotebookApp.rate_limit_window=3.0 (secs)\n",
      "\n",
      " 20%|██████████████▌                                                           | 4710/24000 [00:04<00:20, 962.60it/s, control=0, cost=0.00202]INFO: (EXPERIMENT): reset!\n",
      " 25%|██████████████████▍                                                       | 5996/24000 [00:06<00:21, 830.64it/s, control=0, cost=6.07e-5]INFO: (EXPERIMENT): reset!\n",
      " 30%|█████████████████████▊                                                   | 7188/24000 [00:07<00:19, 871.34it/s, control=0, cost=0.000303]INFO: (EXPERIMENT): reset!\n",
      " 35%|█████████████████████████▋                                                | 8316/24000 [00:08<00:18, 847.07it/s, control=0, cost=8.98e-5]INFO: (EXPERIMENT): reset!\n",
      " 40%|█████████████████████████████▊                                             | 9533/24000 [00:10<00:19, 749.17it/s, control=0, cost=0.0373]INFO: (EXPERIMENT): reset!\n",
      " 45%|████████████████████████████████▋                                        | 10748/24000 [00:12<00:18, 717.42it/s, control=0, cost=0.00653]INFO: (EXPERIMENT): reset!\n",
      " 50%|████████████████████████████████████▎                                    | 11954/24000 [00:14<00:18, 641.12it/s, control=0, cost=0.00219]INFO: (EXPERIMENT): reset!\n",
      " 55%|███████████████████████████████████████▉                                 | 13148/24000 [00:15<00:16, 645.51it/s, control=0, cost=0.00296]INFO: (EXPERIMENT): reset!\n",
      " 60%|████████████████████████████████████████████▎                             | 14353/24000 [00:17<00:15, 606.48it/s, control=0, cost=0.0192]INFO: (EXPERIMENT): reset!\n",
      " 65%|██████████████████████████████████████████████▋                         | 15552/24000 [00:19<00:14, 584.73it/s, control=0, cost=0.000507]INFO: (EXPERIMENT): reset!\n",
      " 70%|███████████████████████████████████████████████████▋                      | 16755/24000 [00:21<00:12, 588.60it/s, control=0, cost=0.0487]INFO: (EXPERIMENT): reset!\n",
      " 75%|██████████████████████████████████████████████████████▋                  | 17990/24000 [00:24<00:11, 513.54it/s, control=0, cost=0.00407]INFO: (EXPERIMENT): reset!\n",
      " 80%|███████████████████████████████████████████████████████████               | 19165/24000 [00:26<00:09, 493.78it/s, control=0, cost=0.0268]INFO: (EXPERIMENT): reset!\n",
      " 83%|████████████████████████████████████████████████████████████▌            | 19897/24000 [00:28<00:08, 472.31it/s, control=0, cost=0.00147]"
     ]
    }
   ],
   "source": [
    "# # run\n",
    "# experiment = Experiment(name)\n",
    "# stats = experiment(get_experiment_args)"
   ]
  },
  {
   "cell_type": "code",
   "execution_count": 4,
   "id": "5020eccd",
   "metadata": {},
   "outputs": [],
   "source": [
    "# save args and stats!  --  note that to save the args, we actually save the `get_args` function. we can print the \n",
    "#                           source code later to see the hyperparameters we chose\n",
    "experiment.save(filename)"
   ]
  },
  {
   "cell_type": "markdown",
   "id": "e8107c23",
   "metadata": {},
   "source": [
    "## Visualization\n",
    "We keep track of the useful information through `Stats` objects, which can `register()` a variable to keep track of (which it does via calls to `update()`) and which can be aggregated via `Stats.aggregate()` for mean and variance statistics. \n",
    "\n",
    "We define below a plotting arrangement that plots all the desired quantities from both the system and controller."
   ]
  },
  {
   "cell_type": "code",
   "execution_count": 5,
   "id": "5666408b",
   "metadata": {},
   "outputs": [],
   "source": [
    "def plot_gym(experiment: Experiment):\n",
    "    assert experiment.stats is not None, 'cannot plot the results of an experiment that hasnt been run'\n",
    "    all_stats = experiment.stats\n",
    "    \n",
    "    # clear plot and calc nrows\n",
    "    plt.clf()\n",
    "    n = 5\n",
    "    nrows = n + (len(all_stats) + 1) // 2\n",
    "    fig, ax = plt.subplots(nrows, 2, figsize=(16, 6 * nrows))\n",
    "\n",
    "    for i, (method, stats) in enumerate(all_stats.items()):\n",
    "        if stats is None: \n",
    "            print('WARNING: {} had no stats'.format(method))\n",
    "            continue\n",
    "        stats.plot(ax[0, 0], 'xs', label=method)\n",
    "#         stats.plot(ax[0, 1], 'ws', label=method)\n",
    "        stats.plot(ax[1, 0], 'us', label=method)\n",
    "#         stats.plot(ax[1, 1], 'rewards', label=method)\n",
    "        stats.plot(ax[1, 1], 'avg fs', label=method)\n",
    "        stats.plot(ax[2, 0], 'rewards', label=method)\n",
    "        stats.plot(ax[2, 1], 'avg rewards', label=method)\n",
    "    \n",
    "        stats.plot(ax[3, 0], '||A||_op', label=method)\n",
    "        stats.plot(ax[3, 1], '||B||_F', label=method)\n",
    "        stats.plot(ax[4, 0], '||A-BK||_op', label=method)\n",
    "        stats.plot(ax[4, 1], 'lifter losses', label=method)\n",
    "        i_ax = ax[n + i // 2, i % 2]\n",
    "        stats.plot(ax[0, 1], 'disturbances', label=method)\n",
    "        stats.plot(i_ax, 'K @ state', label='K @ state')\n",
    "        stats.plot(i_ax, 'M \\cdot w', label='M \\cdot w')\n",
    "        stats.plot(i_ax, 'M0', label='M0')\n",
    "        i_ax.set_title('u decomp for {}'.format(method))\n",
    "        i_ax.legend()\n",
    "\n",
    "    # set titles and legends and limits and such\n",
    "    # (note: `ylim()` is so useful! because sometimes one thing blows up and then autoscale messes up all plots)\n",
    "    _ax = ax[0, 0]; _ax.set_title('position'); _ax.legend(); ylim(_ax, -5, 20)\n",
    "    _ax = ax[0, 1]; _ax.set_title('disturbances'); _ax.legend(); ylim(_ax, -5, 5)\n",
    "    _ax = ax[1, 0]; _ax.set_title('controls'); _ax.legend(); ylim(_ax, -3, 3)\n",
    "    _ax = ax[1, 1]; _ax.set_title('avg costs'); _ax.legend()\n",
    "    \n",
    "    _ax = ax[2, 0]; _ax.set_title('instantaneous rewards'); _ax.legend()\n",
    "    _ax = ax[2, 1]; _ax.set_title('avg rewards'); _ax.legend()\n",
    "    \n",
    "    _ax = ax[3, 0]; _ax.set_title('||A||_op'); _ax.legend()\n",
    "    _ax = ax[3, 1]; _ax.set_title('||B||_F'); _ax.legend()\n",
    "    \n",
    "    _ax = ax[4, 0]; _ax.set_title('||A-BK||_op'); _ax.legend()\n",
    "    _ax = ax[4, 1]; _ax.set_title('lifter losses'); _ax.legend()\n",
    "    pass"
   ]
  },
  {
   "cell_type": "markdown",
   "id": "638e5a3e",
   "metadata": {},
   "source": [
    "### Plot"
   ]
  },
  {
   "cell_type": "code",
   "execution_count": 6,
   "id": "c39faee1",
   "metadata": {
    "scrolled": true
   },
   "outputs": [],
   "source": [
    "plot_gym(experiment)"
   ]
  },
  {
   "cell_type": "markdown",
   "id": "655cdacf",
   "metadata": {},
   "source": [
    "### Dynamic Plot"
   ]
  },
  {
   "cell_type": "code",
   "execution_count": 7,
   "id": "ddb2d679",
   "metadata": {},
   "outputs": [],
   "source": [
    "# dynamic plot\n",
    "anim = render(experiment, 'xs', 'fs', sliderkey='us', save_path=None, duration=5, fps=30)\n",
    "vid = anim.to_html5_video()\n",
    "HTML(vid)"
   ]
  }
 ],
 "metadata": {
  "kernelspec": {
   "display_name": "extravaganza",
   "language": "python",
   "name": "extravaganza"
  },
  "language_info": {
   "codemirror_mode": {
    "name": "ipython",
    "version": 3
   },
   "file_extension": ".py",
   "mimetype": "text/x-python",
   "name": "python",
   "nbconvert_exporter": "python",
   "pygments_lexer": "ipython3",
   "version": "3.10.8"
  }
 },
 "nbformat": 4,
 "nbformat_minor": 5
}
