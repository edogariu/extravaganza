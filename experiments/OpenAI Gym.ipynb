{
 "cells": [
  {
   "cell_type": "markdown",
   "id": "9c85655d",
   "metadata": {},
   "source": [
    "# OpenAI Gym\n"
   ]
  },
  {
   "cell_type": "code",
   "execution_count": 1,
   "id": "29db997e",
   "metadata": {},
   "outputs": [
    {
     "name": "stderr",
     "output_type": "stream",
     "text": [
      "INFO: Created a temporary directory at /var/folders/5m/0xr906c130vdqvkm3g21n6wr0000gn/T/tmp8t0qzzyv\n",
      "INFO: Writing /var/folders/5m/0xr906c130vdqvkm3g21n6wr0000gn/T/tmp8t0qzzyv/_remote_module_non_scriptable.py\n"
     ]
    }
   ],
   "source": [
    "import logging\n",
    "logging.basicConfig(format='%(levelname)s: %(message)s', level=logging.INFO)  # set level to INFO for wordy\n",
    "import matplotlib.pyplot as plt\n",
    "from IPython.display import HTML\n",
    "\n",
    "import numpy as np\n",
    "import jax.numpy as jnp\n",
    "\n",
    "import gymnasium as gym\n",
    "\n",
    "from extravaganza.dynamical_systems import Gym\n",
    "\n",
    "from extravaganza.sysid import Lifter\n",
    "from extravaganza.controllers import NonlinearBPC, ConstantController, OfflineSysid\n",
    "from extravaganza.observables import TimeDelayedObservation, FullObservation, PartialObservation\n",
    "from extravaganza.rescalers import ADAM, D_ADAM, DoWG\n",
    "from extravaganza.utils import ylim, render\n",
    "from extravaganza.experiments import Experiment\n",
    "\n",
    "# seeds for randomness. setting to `None` uses random seeds\n",
    "SYSTEM_SEED = None\n",
    "CONTROLLER_SEED = None\n",
    "SYSID_SEED = None"
   ]
  },
  {
   "cell_type": "markdown",
   "id": "33f06917",
   "metadata": {},
   "source": [
    "## System\n",
    "Here, we work with games in the OpenAI gym, such as `MountainCarContinuous-v0`, in which we supply a value in `[-1, 1]` as a control to push a car left or right up a mountain. The tricky thing about this environment is that you first have to push the car up the left to gain momentum, even though the goal is on the right.\n",
    "\n",
    "Another good environment is the `CartPole` enviroment (left and right bumps on a cart to keep an inverted pendulum upright), whose continuous analog is also displayed below.\n",
    "\n",
    "We make use of **only the reward signal or cost function** to train, not using any state observation.\n",
    "\n",
    "MountainCar | CartPole\n",
    "- | - \n",
    "![mountaincar.gif](https://www.gymlibrary.dev/_images/mountain_car.gif) | ![cart_pole.gif](https://www.gymlibrary.dev/_images/cart_pole.gif)"
   ]
  },
  {
   "cell_type": "markdown",
   "id": "a0c16dbd",
   "metadata": {},
   "source": [
    "## Hyperparameters"
   ]
  },
  {
   "cell_type": "code",
   "execution_count": 4,
   "id": "2ea3889d",
   "metadata": {},
   "outputs": [],
   "source": [
    "name = 'gymtesty'\n",
    "filename = '../logs/{}.pkl'.format(name)\n",
    "\n",
    "def get_experiment_args():\n",
    "    # --------------------------------------------------------------------------------------\n",
    "    # ------------------------    EXPERIMENT HYPERPARAMETERS    ----------------------------\n",
    "    # --------------------------------------------------------------------------------------\n",
    "\n",
    "    num_trials = 1\n",
    "    T = 20000  # total timesteps\n",
    "    T0 = 10000  # number of timesteps to just sysid for our methods\n",
    "    reset_condition = lambda t: False  # when to reset the system\n",
    "    use_multiprocessing = False\n",
    "    render_every = None\n",
    "\n",
    "    # --------------------------------------------------------------------------------------\n",
    "    # --------------------------    SYSTEM HYPERPARAMETERS    ------------------------------\n",
    "    # --------------------------------------------------------------------------------------\n",
    "\n",
    "    du = 1\n",
    "    ds = 4\n",
    "    env_name = 'CartPoleContinuous-v1'  \n",
    "    # env_name = 'MountainCarContinuous-v0'\n",
    "    make_system = lambda : Gym(env_name=env_name, repeat=1, max_episode_len=600, seed=SYSTEM_SEED)\n",
    "\n",
    "    # --------------------------------------------------------------------------------------\n",
    "    # ------------------------    LIFT/SYSID HYPERPARAMETERS    ----------------------------\n",
    "    # --------------------------------------------------------------------------------------\n",
    "    \n",
    "    dl = 16\n",
    "    hh = 3\n",
    "    \n",
    "#     observable = TimeDelayedObservation(hh = hh, state_dim=ds, control_dim=du, use_states=True, use_costs=True, use_controls=True, use_time=False)\n",
    "#     observable = PartialObservation(obs_dim = 3, state_dim=ds, seed=SYSTEM_SEED)\n",
    "    observable = FullObservation(state_dim=ds)\n",
    "    do = observable.obs_dim\n",
    "    \n",
    "    \n",
    "    sysid_args = {\n",
    "        'obs_dim': do,\n",
    "        'control_dim': du,\n",
    "        \n",
    "        'max_traj_len': int(1e6),\n",
    "        'exploration_scale': 0.4,\n",
    "\n",
    "        'depth': 4,\n",
    "        'h': 2,\n",
    "        'num_epochs': 250,\n",
    "        'batch_size': min(T0 - 3, 128),\n",
    "        'lr': 0.002,\n",
    "        \n",
    "        'seed': SYSID_SEED,\n",
    "    }\n",
    "\n",
    "    # --------------------------------------------------------------------------------------\n",
    "    # ------------------------    CONTROLLER HYPERPARAMETERS    ----------------------------\n",
    "    # --------------------------------------------------------------------------------------\n",
    "\n",
    "    h = 5  # controller memory length (# of w's to use on inference)\n",
    "    m_update_rescaler = lambda : ADAM(0.001, betas=(0.9, 0.999))\n",
    "    m0_update_rescaler = lambda : ADAM(0.00, betas=(0.9, 0.999))\n",
    "    k_update_rescaler = lambda : ADAM(0.001, betas=(0.9, 0.999))\n",
    "\n",
    "    nonlinear_bpc_args = {\n",
    "        'h': h,  \n",
    "        'method': 'REINFORCE',\n",
    "        'initial_scales': (0.2, 0.01, 0.),  # M, M0, K   (uses M0's scale for REINFORCE)\n",
    "        'rescalers': (m_update_rescaler, m0_update_rescaler, k_update_rescaler),\n",
    "        'bounds': None,\n",
    "        'initial_u': jnp.zeros(du),\n",
    "        'decay_scales': False,\n",
    "        'use_tanh': False,\n",
    "        'use_stabilizing_K': True,\n",
    "        'seed': CONTROLLER_SEED\n",
    "    }\n",
    "    \n",
    "    make_controllers = {\n",
    "#         'Linear': lambda sys: OfflineSysid(NonlinearBPC(sysid=Lifter(method='identity', state_dim=ds, **sysid_args), **nonlinear_bpc_args), T0),\n",
    "        'Lifted': lambda sys: OfflineSysid(NonlinearBPC(sysid=Lifter(method='nn', state_dim=dl, **sysid_args), **nonlinear_bpc_args), T0)\n",
    "    }\n",
    "\n",
    "    experiment_args = {\n",
    "        'make_system': make_system,\n",
    "        'make_controllers': make_controllers,\n",
    "        'observable': observable,\n",
    "        'num_trials': num_trials,\n",
    "        'T': T,\n",
    "        'reset_condition': reset_condition,\n",
    "        'reset_seed': SYSTEM_SEED,\n",
    "        'use_multiprocessing': use_multiprocessing,\n",
    "        'render_every': render_every,\n",
    "    }\n",
    "    return experiment_args"
   ]
  },
  {
   "cell_type": "markdown",
   "id": "87dd3a0d",
   "metadata": {},
   "source": [
    "## actually run the thing :)"
   ]
  },
  {
   "cell_type": "code",
   "execution_count": 5,
   "id": "63b3132a",
   "metadata": {
    "scrolled": false
   },
   "outputs": [
    {
     "name": "stderr",
     "output_type": "stream",
     "text": [
      "INFO: (EXPERIMENT) --------------------------------------------------\n",
      "INFO: (EXPERIMENT) ----------------- TRIAL 0 -----------------------\n",
      "INFO: (EXPERIMENT) --------------------------------------------------\n",
      "\n",
      "INFO: (EXPERIMENT): testing Lifted\n",
      "/Users/evandigiorno/Desktop/extravaganza/env/lib/python3.10/site-packages/gymnasium/spaces/box.py:130: UserWarning: \u001b[33mWARN: Box bound precision lowered by casting to float32\u001b[0m\n",
      "  gym.logger.warn(f\"Box bound precision lowered by casting to {self.dtype}\")\n",
      "  0%|                                                                                                                      | 0/20000 [00:00<?, ?it/s]INFO: (EXPERIMENT): reset at t=0!\n",
      " 50%|██████████████████████████████████████▎                                      | 9960/20000 [00:21<00:22, 454.31it/s, control=-.0161, cost=0.0102]INFO: (SYSID WRAPPER) ending exploration at timestep 10000\n",
      "INFO: (LIFTER): ending sysid phase at step 9999\n",
      "INFO: training!\n",
      "INFO: mean loss for past 25 epochs was {'linearization': 426260.12459935894, 'simplification': 2.465606093406677, 'reconstruction': 0.0, 'controllability': 0.0}\n",
      "INFO: mean loss for past 25 epochs was {'linearization': nan, 'simplification': nan, 'reconstruction': 0.0, 'controllability': 0.0}\n",
      "INFO: mean loss for past 25 epochs was {'linearization': nan, 'simplification': nan, 'reconstruction': 0.0, 'controllability': 0.0}\n",
      "INFO: mean loss for past 25 epochs was {'linearization': nan, 'simplification': nan, 'reconstruction': 0.0, 'controllability': 0.0}\n",
      "INFO: mean loss for past 25 epochs was {'linearization': nan, 'simplification': nan, 'reconstruction': 0.0, 'controllability': 0.0}\n",
      "INFO: mean loss for past 25 epochs was {'linearization': nan, 'simplification': nan, 'reconstruction': 0.0, 'controllability': 0.0}\n",
      " 50%|██████████████████████████████████████▍                                      | 9999/20000 [00:37<00:37, 266.42it/s, control=-.0161, cost=0.0102]\n",
      "\n",
      "KeyboardInterrupt\n",
      "\n"
     ]
    }
   ],
   "source": [
    "# run\n",
    "experiment = Experiment(name)\n",
    "stats = experiment(get_experiment_args)"
   ]
  },
  {
   "cell_type": "code",
   "execution_count": null,
   "id": "5020eccd",
   "metadata": {},
   "outputs": [],
   "source": [
    "# save args and stats!  --  note that to save the args, we actually save the `get_args` function. we can print the \n",
    "#                           source code later to see the hyperparameters we chose\n",
    "# experiment.save(filename)"
   ]
  },
  {
   "cell_type": "markdown",
   "id": "e8107c23",
   "metadata": {},
   "source": [
    "## Visualization\n",
    "We keep track of the useful information through `Stats` objects, which can `register()` a variable to keep track of (which it does via calls to `update()`) and which can be aggregated via `Stats.aggregate()` for mean and variance statistics. \n",
    "\n",
    "We define below a plotting arrangement that plots all the desired quantities from both the system and controller."
   ]
  },
  {
   "cell_type": "code",
   "execution_count": null,
   "id": "5666408b",
   "metadata": {},
   "outputs": [],
   "source": [
    "def plot_gym(experiment: Experiment):\n",
    "    assert experiment.stats is not None, 'cannot plot the results of an experiment that hasnt been run'\n",
    "    all_stats = experiment.stats\n",
    "    \n",
    "    # clear plot and calc nrows\n",
    "    plt.clf()\n",
    "    n = 3\n",
    "    nrows = n + (len(all_stats) + 1) // 2\n",
    "    fig, ax = plt.subplots(nrows, 2, figsize=(16, 6 * nrows))\n",
    "\n",
    "    # plot stats\n",
    "    for i, (method, stats) in enumerate(all_stats.items()):\n",
    "        if stats is None: \n",
    "            logging.warning('{} had no stats'.format(method))\n",
    "            continue\n",
    "            \n",
    "        stats.plot(ax[0, 0], 'true states', label=method, plot_norm=True)\n",
    "        stats.plot(ax[1, 0], 'costs', label=method)\n",
    "        stats.plot(ax[1, 1], 'costs', label=method, plot_cummean=True)\n",
    "        \n",
    "        stats.plot(ax[2, 0], 'states', label=method, plot_norm=True)  # norm of the \"state\"\n",
    "        stats.plot(ax[2, 1], 'linearization', label='linearization')  # various nn losses\n",
    "        stats.plot(ax[2, 1], 'simplification', label='simplification')\n",
    "        stats.plot(ax[2, 1], 'reconstruction', label='reconstruction')\n",
    "        stats.plot(ax[2, 1], 'controllability', label='controllability')\n",
    "            \n",
    "        i_ax = ax[n + i // 2, i % 2]\n",
    "        stats.plot(ax[0, 1], 'disturbances', label=method, plot_norm=True)\n",
    "        stats.plot(i_ax, '-K @ state', label='-K @ state', plot_idx=0)\n",
    "        stats.plot(i_ax, 'M \\cdot w', label='M \\cdot w', plot_idx=0)\n",
    "        stats.plot(i_ax, 'M0', label='M0', plot_idx=0)\n",
    "        i_ax.set_title('u decomp for {}'.format(method))\n",
    "        i_ax.legend()\n",
    "\n",
    "    # set titles and legends and limits and such\n",
    "    # (note: `ylim()` is so useful! because sometimes one thing blows up and then autoscale messes up all plots)\n",
    "    _ax = ax[0, 0]; _ax.set_title('true states'); _ax.legend()\n",
    "    _ax = ax[0, 1]; _ax.set_title('disturbances'); _ax.legend()\n",
    "    _ax = ax[1, 0]; _ax.set_title('instantaneous costs'); _ax.legend()\n",
    "    _ax = ax[1, 1]; _ax.set_title('avg costs'); _ax.legend(); ylim(_ax, 0, 3)\n",
    "    _ax = ax[2, 0]; _ax.set_title('reconstructed states'); _ax.legend()\n",
    "    _ax = ax[2, 1]; _ax.set_title('nn losses'); _ax.legend()  \n",
    "    pass"
   ]
  },
  {
   "cell_type": "markdown",
   "id": "638e5a3e",
   "metadata": {},
   "source": [
    "### Plot"
   ]
  },
  {
   "cell_type": "code",
   "execution_count": null,
   "id": "c39faee1",
   "metadata": {
    "scrolled": true
   },
   "outputs": [],
   "source": [
    "plot_gym(experiment)"
   ]
  },
  {
   "cell_type": "markdown",
   "id": "655cdacf",
   "metadata": {},
   "source": [
    "### Dynamic Plot"
   ]
  },
  {
   "cell_type": "code",
   "execution_count": null,
   "id": "ddb2d679",
   "metadata": {},
   "outputs": [],
   "source": [
    "# dynamic plot\n",
    "anim = render(experiment, 'xs', 'fs', sliderkey='us', save_path=None, duration=5, fps=30)\n",
    "vid = anim.to_html5_video()\n",
    "HTML(vid)"
   ]
  }
 ],
 "metadata": {
  "kernelspec": {
   "display_name": "extravaganza",
   "language": "python",
   "name": "extravaganza"
  },
  "language_info": {
   "codemirror_mode": {
    "name": "ipython",
    "version": 3
   },
   "file_extension": ".py",
   "mimetype": "text/x-python",
   "name": "python",
   "nbconvert_exporter": "python",
   "pygments_lexer": "ipython3",
   "version": "3.10.8"
  }
 },
 "nbformat": 4,
 "nbformat_minor": 5
}
