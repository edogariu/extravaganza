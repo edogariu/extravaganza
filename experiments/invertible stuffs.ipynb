{
 "cells": [
  {
   "cell_type": "code",
   "execution_count": 28,
   "id": "ac82f148",
   "metadata": {},
   "outputs": [
    {
     "name": "stdout",
     "output_type": "stream",
     "text": [
      "58406 58406\n"
     ]
    }
   ],
   "source": [
    "from INN.CouplingModels.RealNVP.linear import NonlinearRealNVP\n",
    "import torch\n",
    "\n",
    "dim = 19\n",
    "k = 8\n",
    "\n",
    "net1 = NonlinearRealNVP(dim, k=k)\n",
    "\n",
    "x = torch.randn(dim)\n",
    "y, _, _ = net1.forward(x)\n",
    "(x - net1.inverse(y)).abs().sum()\n",
    "\n",
    "from extravaganza.utils import count_parameters\n",
    "from extravaganza.models import MLP\n",
    "\n",
    "net2 = MLP(layer_dims=[dim, k * dim, k * dim, dim])\n",
    "print(count_parameters(net1), 2 * count_parameters(net2))\n",
    "\n",
    "opt1 = torch.optim.Adam(net1.parameters(), lr=0.001)\n",
    "opt2 = torch.optim.Adam(net2.parameters(), lr=0.001)\n",
    "\n"
   ]
  }
 ],
 "metadata": {
  "kernelspec": {
   "display_name": "extravaganza",
   "language": "python",
   "name": "extravaganza"
  },
  "language_info": {
   "codemirror_mode": {
    "name": "ipython",
    "version": 3
   },
   "file_extension": ".py",
   "mimetype": "text/x-python",
   "name": "python",
   "nbconvert_exporter": "python",
   "pygments_lexer": "ipython3",
   "version": "3.10.8"
  }
 },
 "nbformat": 4,
 "nbformat_minor": 5
}
